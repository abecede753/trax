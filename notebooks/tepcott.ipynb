{
 "cells": [
  {
   "cell_type": "code",
   "execution_count": 1,
   "metadata": {
    "collapsed": true,
    "deletable": true,
    "editable": true
   },
   "outputs": [],
   "source": [
    "import os, sys\n",
    "sys.path.insert(0, '/home/trax/trax/website')\n",
    "os.environ.setdefault(\"DJANGO_SETTINGS_MODULE\", \"trax.settings\")\n",
    "import django\n",
    "django.setup()"
   ]
  },
  {
   "cell_type": "code",
   "execution_count": 2,
   "metadata": {
    "collapsed": true,
    "deletable": true,
    "editable": true
   },
   "outputs": [],
   "source": [
    "from tracks.models import Laptime\n",
    "ls = Laptime.objects.filter(track__id=117, link__isnull=False).exclude(link='').order_by('millis')"
   ]
  },
  {
   "cell_type": "code",
   "execution_count": 3,
   "metadata": {
    "collapsed": false,
    "deletable": true,
    "editable": true
   },
   "outputs": [],
   "source": [
    "from collections import OrderedDict\n",
    "players = {}\n",
    "for l in ls:\n",
    "    if players.get(l.player.username):\n",
    "        players[l.player.username].append(l)\n",
    "    else:\n",
    "        players[l.player.username] = [l,]"
   ]
  },
  {
   "cell_type": "code",
   "execution_count": 4,
   "metadata": {
    "collapsed": false,
    "deletable": true,
    "editable": true
   },
   "outputs": [
    {
     "data": {
      "text/plain": [
       "dict_keys(['yoloswagypsen', 'radas59', 'benimi', 'abe.cede', '-obihoernchen-', 'dv8rx.', 'hiberg', 'sins', 'friendlybaron', 'razvanmc23', 'mindlessriff', 'toodlesn', 'dogda_', 'thetruearyan', 'serenniel', 'p4ulin4tor', 'ohdarn', 'tony_soprano1985', 'mistarr', 'grievous_94'])"
      ]
     },
     "execution_count": 4,
     "metadata": {},
     "output_type": "execute_result"
    }
   ],
   "source": [
    "players.keys()"
   ]
  },
  {
   "cell_type": "code",
   "execution_count": 5,
   "metadata": {
    "collapsed": false,
    "deletable": true,
    "editable": true
   },
   "outputs": [],
   "source": [
    "od = OrderedDict(sorted(players.items(), key=lambda t: t[1][0].millis))"
   ]
  },
  {
   "cell_type": "code",
   "execution_count": 6,
   "metadata": {
    "collapsed": false,
    "deletable": true,
    "editable": true
   },
   "outputs": [
    {
     "data": {
      "text/plain": [
       "OrderedDict([('ohdarn', [<Laptime: ohdarn Jester (Racecar)>]),\n",
       "             ('serenniel', [<Laptime: serenniel Jester (Racecar)>]),\n",
       "             ('radas59', [<Laptime: radas59 Elegy RH8>]),\n",
       "             ('benimi',\n",
       "              [<Laptime: benimi Elegy RH8>,\n",
       "               <Laptime: benimi Elegy Retro Custom>,\n",
       "               <Laptime: benimi Specter>]),\n",
       "             ('yoloswagypsen',\n",
       "              [<Laptime: yoloswagypsen Elegy RH8>,\n",
       "               <Laptime: yoloswagypsen Elegy RH8>]),\n",
       "             ('hiberg',\n",
       "              [<Laptime: hiberg Elegy RH8>,\n",
       "               <Laptime: hiberg Elegy RH8>,\n",
       "               <Laptime: hiberg Elegy RH8>]),\n",
       "             ('grievous_94',\n",
       "              [<Laptime: grievous_94 Elegy RH8>,\n",
       "               <Laptime: grievous_94 Elegy RH8>]),\n",
       "             ('mindlessriff', [<Laptime: mindlessriff Elegy RH8>]),\n",
       "             ('-obihoernchen-', [<Laptime: -obihoernchen- Seven-70>]),\n",
       "             ('p4ulin4tor', [<Laptime: p4ulin4tor Elegy RH8>]),\n",
       "             ('sins', [<Laptime: sins Elegy RH8>, <Laptime: sins Feltzer>]),\n",
       "             ('toodlesn',\n",
       "              [<Laptime: toodlesn Elegy RH8>, <Laptime: toodlesn Feltzer>]),\n",
       "             ('thetruearyan', [<Laptime: thetruearyan Elegy RH8>]),\n",
       "             ('mistarr',\n",
       "              [<Laptime: mistarr Jester (Racecar)>,\n",
       "               <Laptime: mistarr Massacro (Racecar)>]),\n",
       "             ('tony_soprano1985',\n",
       "              [<Laptime: tony_soprano1985 Elegy RH8>,\n",
       "               <Laptime: tony_soprano1985 Jester (Racecar)>]),\n",
       "             ('friendlybaron', [<Laptime: friendlybaron Feltzer>]),\n",
       "             ('dv8rx.', [<Laptime: dv8rx. Jester>]),\n",
       "             ('dogda_', [<Laptime: dogda_ Feltzer>]),\n",
       "             ('razvanmc23',\n",
       "              [<Laptime: razvanmc23 Jester (Racecar)>,\n",
       "               <Laptime: razvanmc23 Elegy Retro Custom>]),\n",
       "             ('abe.cede', [<Laptime: abe.cede Feltzer>])])"
      ]
     },
     "execution_count": 6,
     "metadata": {},
     "output_type": "execute_result"
    }
   ],
   "source": [
    "od"
   ]
  },
  {
   "cell_type": "code",
   "execution_count": 7,
   "metadata": {
    "collapsed": false,
    "deletable": true,
    "editable": true
   },
   "outputs": [
    {
     "name": "stdout",
     "output_type": "stream",
     "text": [
      "ohdarn 129864\n",
      "serenniel 130300\n",
      "radas59 130465\n",
      "benimi 130600\n",
      "yoloswagypsen 131185\n",
      "hiberg 131753\n",
      "grievous_94 131804\n",
      "mindlessriff 132140\n",
      "-obihoernchen- 132448\n",
      "p4ulin4tor 132449\n",
      "sins 132585\n",
      "toodlesn 132755\n",
      "thetruearyan 133154\n",
      "mistarr 133391\n",
      "tony_soprano1985 133619\n",
      "friendlybaron 134020\n",
      "dv8rx. 134134\n",
      "dogda_ 135541\n",
      "razvanmc23 136779\n",
      "abe.cede 145247\n"
     ]
    }
   ],
   "source": [
    "for playa, lst in od.items():\n",
    "    print(playa, lst[0].millis)\n",
    "    "
   ]
  },
  {
   "cell_type": "code",
   "execution_count": 15,
   "metadata": {
    "collapsed": false,
    "deletable": true,
    "editable": true
   },
   "outputs": [
    {
     "data": {
      "text/plain": [
       "[('ohdarn', [<Laptime: ohdarn Jester (Racecar)>]),\n",
       " ('serenniel', [<Laptime: serenniel Jester (Racecar)>]),\n",
       " ('radas59', [<Laptime: radas59 Elegy RH8>]),\n",
       " ('benimi',\n",
       "  [<Laptime: benimi Elegy RH8>,\n",
       "   <Laptime: benimi Elegy Retro Custom>,\n",
       "   <Laptime: benimi Specter>]),\n",
       " ('yoloswagypsen',\n",
       "  [<Laptime: yoloswagypsen Elegy RH8>, <Laptime: yoloswagypsen Elegy RH8>]),\n",
       " ('hiberg',\n",
       "  [<Laptime: hiberg Elegy RH8>,\n",
       "   <Laptime: hiberg Elegy RH8>,\n",
       "   <Laptime: hiberg Elegy RH8>]),\n",
       " ('grievous_94',\n",
       "  [<Laptime: grievous_94 Elegy RH8>, <Laptime: grievous_94 Elegy RH8>]),\n",
       " ('mindlessriff', [<Laptime: mindlessriff Elegy RH8>]),\n",
       " ('-obihoernchen-', [<Laptime: -obihoernchen- Seven-70>]),\n",
       " ('p4ulin4tor', [<Laptime: p4ulin4tor Elegy RH8>]),\n",
       " ('sins', [<Laptime: sins Elegy RH8>, <Laptime: sins Feltzer>]),\n",
       " ('toodlesn', [<Laptime: toodlesn Elegy RH8>, <Laptime: toodlesn Feltzer>]),\n",
       " ('thetruearyan', [<Laptime: thetruearyan Elegy RH8>]),\n",
       " ('mistarr',\n",
       "  [<Laptime: mistarr Jester (Racecar)>,\n",
       "   <Laptime: mistarr Massacro (Racecar)>]),\n",
       " ('tony_soprano1985',\n",
       "  [<Laptime: tony_soprano1985 Elegy RH8>,\n",
       "   <Laptime: tony_soprano1985 Jester (Racecar)>]),\n",
       " ('friendlybaron', [<Laptime: friendlybaron Feltzer>]),\n",
       " ('dv8rx.', [<Laptime: dv8rx. Jester>]),\n",
       " ('dogda_', [<Laptime: dogda_ Feltzer>]),\n",
       " ('razvanmc23',\n",
       "  [<Laptime: razvanmc23 Jester (Racecar)>,\n",
       "   <Laptime: razvanmc23 Elegy Retro Custom>]),\n",
       " ('abe.cede', [<Laptime: abe.cede Feltzer>])]"
      ]
     },
     "execution_count": 15,
     "metadata": {},
     "output_type": "execute_result"
    }
   ],
   "source": [
    "list(od.items())"
   ]
  },
  {
   "cell_type": "code",
   "execution_count": 16,
   "metadata": {
    "collapsed": false,
    "deletable": true,
    "editable": true
   },
   "outputs": [
    {
     "name": "stdout",
     "output_type": "stream",
     "text": [
      "210.82354 Banshee 900R\n",
      "208.007195 811\n",
      "205.19085 X80 Proto\n",
      "204.788515 Nero Custom\n",
      "204.38618 Itali GTB Custom\n",
      "203.58151 Nero\n",
      "203.179175 Itali GTB\n",
      "201.1675 FMJ\n",
      "200.765165 Adder\n",
      "200.36283 Pisswasser Dominator\n",
      "199.960495 Schafter V12\n",
      "199.55816 Penetrator\n",
      "199.236292 GP1\n",
      "198.75349 Rat-Truck\n",
      "198.75349 Seven-70\n",
      "198.75349 Tyrus\n",
      "198.75349 RE-7B\n",
      "196.741815 T20\n",
      "196.33948 Osiris\n",
      "196.33948 Zentorno\n",
      "195.937145 Massacro\n",
      "195.937145 Turismo R\n",
      "195.937145 Reaper\n",
      "195.937145 Verlierer\n",
      "195.937145 Massacro (Racecar)\n",
      "195.53481 Lynx\n",
      "195.53481 Entity XF\n",
      "195.132475 Tempesta\n",
      "195.132475 Specter\n",
      "195.132475 Comet Retro Custom\n",
      "195.132475 Specter Custom\n",
      "194.73014 Surano\n",
      "194.327805 ETR1\n",
      "193.523135 Dominator\n",
      "193.523135 Furore GT\n",
      "193.523135 Cheetah\n",
      "193.523135 Vacca\n",
      "192.718465 9F\n",
      "192.31613 Feltzer\n",
      "192.31613 Rapid GT\n",
      "192.31613 Carbonizzare\n",
      "192.31613 Comet\n",
      "192.31613 Tropos Rallye\n",
      "191.913795 Futo\n",
      "191.913795 Coquette\n",
      "191.913795 Jester (Racecar)\n",
      "191.109125 Jester\n",
      "191.109125 Bestia GTS\n",
      "191.109125 Bullet\n",
      "190.70679 Elegy RH8\n"
     ]
    }
   ],
   "source": [
    "### fastest cars\n",
    "from vehicles.models import Vehicle\n",
    "for v in Vehicle.objects.filter(topspeed_kmh__isnull=False).filter(classes__name__in=[\"Super\", \"Sport\", \"Muscle\", \"Sports_Classic\"]).order_by('-topspeed_kmh')[:50]:\n",
    "    print(v.topspeed_kmh, v.name)"
   ]
  },
  {
   "cell_type": "code",
   "execution_count": 8,
   "metadata": {
    "collapsed": false
   },
   "outputs": [
    {
     "data": {
      "text/plain": [
       "<django.db.models.fields.related_descriptors.create_forward_many_to_many_manager.<locals>.ManyRelatedManager at 0x7fcca09e46a0>"
      ]
     },
     "execution_count": 8,
     "metadata": {},
     "output_type": "execute_result"
    }
   ],
   "source": [
    "v.classes"
   ]
  },
  {
   "cell_type": "code",
   "execution_count": null,
   "metadata": {
    "collapsed": true
   },
   "outputs": [],
   "source": []
  }
 ],
 "metadata": {
  "kernelspec": {
   "display_name": "Python 3",
   "language": "python",
   "name": "python3"
  },
  "language_info": {
   "codemirror_mode": {
    "name": "ipython",
    "version": 3
   },
   "file_extension": ".py",
   "mimetype": "text/x-python",
   "name": "python",
   "nbconvert_exporter": "python",
   "pygments_lexer": "ipython3",
   "version": "3.5.1"
  }
 },
 "nbformat": 4,
 "nbformat_minor": 2
}
