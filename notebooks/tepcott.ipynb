{
 "cells": [
  {
   "cell_type": "code",
   "execution_count": 1,
   "metadata": {
    "collapsed": true,
    "deletable": true,
    "editable": true
   },
   "outputs": [],
   "source": [
    "import os, sys\n",
    "sys.path.insert(0, '/home/trax/trax/website')\n",
    "os.environ.setdefault(\"DJANGO_SETTINGS_MODULE\", \"trax.settings\")\n",
    "import django\n",
    "django.setup()\n",
    "from django.utils import timezone"
   ]
  },
  {
   "cell_type": "code",
   "execution_count": 2,
   "metadata": {
    "collapsed": false,
    "deletable": true,
    "editable": true
   },
   "outputs": [],
   "source": [
    "from tracks.models import Laptime, Track\n",
    "from pprint import pprint\n",
    "from collections import OrderedDict\n",
    "import datetime\n",
    "from IPython.display import HTML, display\n",
    "import tabulate\n",
    "\n",
    "def epsilon_detail():\n",
    "    exclude_usernames = ['benimi', 'yoloswagypsen', 'sins']  # submitted times, but don't participate\n",
    "    t = Track.objects.get(pk=117)\n",
    "    enddate = timezone.datetime(2017, 3, 30, 18, 0, 0)\n",
    "\n",
    "    ls = Laptime.objects.filter(\n",
    "        track=t,\n",
    "        created__lt=enddate,\n",
    "        link__isnull=False).exclude(\n",
    "        link='').order_by('millis')\n",
    "    players = {}\n",
    "    for l in ls:\n",
    "        if l.player.username in exclude_usernames:\n",
    "            continue\n",
    "        if players.get(l.player.username):\n",
    "            players[l.player.username].append(l)\n",
    "        else:\n",
    "            players[l.player.username] = [l, ]\n",
    "    od = list(OrderedDict(sorted(players.items(), key=lambda t: t[1][0].millis)).items())\n",
    "\n",
    "    divisions = []\n",
    "    for x in (0, 15, 30, 45):\n",
    "        if len(od) >= x:\n",
    "            divisions.append(od[x:x + 15])\n",
    "        else:\n",
    "            divisions.append([])\n",
    "    if len(od) > 60:\n",
    "        divisions.append(od[60:])\n",
    "    else:\n",
    "        divisions.append([])\n",
    "\n",
    "    return divisions\n"
   ]
  },
  {
   "cell_type": "code",
   "execution_count": 6,
   "metadata": {
    "collapsed": false,
    "deletable": true,
    "editable": true
   },
   "outputs": [
    {
     "name": "stderr",
     "output_type": "stream",
     "text": [
      "/home/trax/trax/env/lib/python3.5/site-packages/django/db/models/fields/__init__.py:1430: RuntimeWarning: DateTimeField Laptime.created received a naive datetime (2017-03-30 18:00:00) while time zone support is active.\n",
      "  RuntimeWarning)\n"
     ]
    }
   ],
   "source": [
    "divs = epsilon_detail()"
   ]
  },
  {
   "cell_type": "code",
   "execution_count": 4,
   "metadata": {
    "collapsed": false,
    "deletable": true,
    "editable": true
   },
   "outputs": [
    {
     "data": {
      "text/plain": [
       "5"
      ]
     },
     "execution_count": 4,
     "metadata": {},
     "output_type": "execute_result"
    }
   ],
   "source": [
    "len(divs)"
   ]
  },
  {
   "cell_type": "code",
   "execution_count": null,
   "metadata": {
    "collapsed": true,
    "deletable": true,
    "editable": true
   },
   "outputs": [],
   "source": []
  },
  {
   "cell_type": "code",
   "execution_count": 8,
   "metadata": {
    "collapsed": false,
    "deletable": true,
    "editable": true,
    "scrolled": false
   },
   "outputs": [
    {
     "name": "stdout",
     "output_type": "stream",
     "text": [
      "============ DIVISION  1\n",
      "ohdarn\n",
      "obihoernchen\n",
      "serenniel\n",
      "casper258\n",
      "smithyonetwelve\n",
      "mindlessriff\n",
      "tony_soprano1985\n",
      "doompenguin44\n",
      "grmpls\n",
      "friendlybaron\n",
      "radas59\n",
      "tsupernami\n",
      "nommasch\n",
      "divait\n",
      "fab.iceman\n",
      "============ DIVISION  2\n",
      "scrazor92\n",
      "grievous_94\n",
      "michiski22\n",
      "mistarr\n",
      "adam10603\n",
      "dogda\n",
      "justus2036\n",
      "esquzz\n",
      "serviinutles\n",
      "toodlesn\n",
      "thetruearyan\n",
      "dv8rx\n",
      "firefly\n",
      "p4ulin4tor\n",
      "oldholborn\n",
      "============ DIVISION  3\n",
      "thisisqlimax\n",
      "hiberg\n",
      "thekillswitchh\n",
      "deafplayer\n",
      "ofmikeandmen\n",
      "positivetension\n",
      "herogut\n",
      "countach92\n",
      "thedelgadic1\n",
      "j3rryacinonyx\n",
      "imfishy\n",
      "sunkenviper\n",
      "silkie\n",
      "akajayjohn\n",
      "kili31\n",
      "============ DIVISION  4\n",
      "nikoflakis\n",
      "declassed\n",
      "horsvarka\n",
      "mishindmitriy\n",
      "prrevil\n",
      "tohrazer\n",
      "abe.cede\n",
      "fivedownactual\n",
      "pseudonymous8128\n",
      "killmeister\n",
      "razvanmc23\n",
      "mrbeattbox\n",
      "amlegendary96\n",
      "============ DIVISION  5\n",
      "################################################################################\n",
      "abe.cede\n",
      "adam10603\n",
      "akajayjohn\n",
      "amlegendary96\n",
      "casper258\n",
      "countach92\n",
      "deafplayer\n",
      "declassed\n",
      "divait\n",
      "dogda\n",
      "doompenguin44\n",
      "dv8rx\n",
      "esquzz\n",
      "fab.iceman\n",
      "firefly\n",
      "fivedownactual\n",
      "friendlybaron\n",
      "grievous_94\n",
      "grmpls\n",
      "herogut\n",
      "hiberg\n",
      "horsvarka\n",
      "imfishy\n",
      "j3rryacinonyx\n",
      "justus2036\n",
      "kili31\n",
      "killmeister\n",
      "michiski22\n",
      "mindlessriff\n",
      "mishindmitriy\n",
      "mistarr\n",
      "mrbeattbox\n",
      "nikoflakis\n",
      "nommasch\n",
      "obihoernchen\n",
      "ofmikeandmen\n",
      "ohdarn\n",
      "oldholborn\n",
      "p4ulin4tor\n",
      "positivetension\n",
      "prrevil\n",
      "pseudonymous8128\n",
      "radas59\n",
      "razvanmc23\n",
      "scrazor92\n",
      "serenniel\n",
      "serviinutles\n",
      "silkie\n",
      "smithyonetwelve\n",
      "sunkenviper\n",
      "thedelgadic1\n",
      "thekillswitchh\n",
      "thetruearyan\n",
      "thisisqlimax\n",
      "tohrazer\n",
      "tony_soprano1985\n",
      "toodlesn\n",
      "tsupernami\n"
     ]
    }
   ],
   "source": [
    "all_players = []\n",
    "for idx, players in enumerate(divs):\n",
    "    print(\"============ DIVISION \", idx + 1)\n",
    "    for player, pdata in players:\n",
    "        pname = player.replace(\"-\", \"\").strip(\".\").strip(\"_\")\n",
    "        all_players.append(pname)\n",
    "        print(pname)\n",
    "print (\"#\" * 80)\n",
    "\n",
    "for pname in sorted(all_players):\n",
    "    print(pname)\n"
   ]
  },
  {
   "cell_type": "markdown",
   "metadata": {
    "collapsed": true,
    "deletable": true,
    "editable": true
   },
   "source": [
    "============ DIVISION  1\n",
    "ohdarn\n",
    "obihoernchen\n",
    "serenniel\n",
    "casper258\n",
    "smithyonetwelve\n",
    "mindlessriff\n",
    "tony_soprano1985\n",
    "doompenguin44\n",
    "grmpls\n",
    "friendlybaron\n",
    "radas59\n",
    "tsupernami\n",
    "nommasch\n",
    "divait\n",
    "fab.iceman\n",
    "============ DIVISION  2\n",
    "scrazor92\n",
    "grievous_94\n",
    "michiski22\n",
    "mistarr\n",
    "adam10603\n",
    "dogda\n",
    "justus2036\n",
    "esquzz\n",
    "serviinutles\n",
    "toodlesn\n",
    "thetruearyan\n",
    "dv8rx\n",
    "firefly\n",
    "p4ulin4tor\n",
    "oldholborn\n",
    "============ DIVISION  3\n",
    "thisisqlimax\n",
    "hiberg\n",
    "thekillswitchh\n",
    "deafplayer\n",
    "ofmikeandmen\n",
    "positivetension\n",
    "herogut\n",
    "countach92\n",
    "thedelgadic1\n",
    "j3rryacinonyx\n",
    "imfishy\n",
    "sunkenviper\n",
    "silkie\n",
    "akajayjohn\n",
    "kili31\n",
    "============ DIVISION  4\n",
    "nikoflakis\n",
    "declassed\n",
    "horsvarka\n",
    "mishindmitriy\n",
    "prrevil\n",
    "tohrazer\n",
    "abe.cede\n",
    "fivedownactual\n",
    "pseudonymous8128\n",
    "killmeister\n",
    "razvanmc23\n",
    "mrbeattbox\n",
    "amlegendary96\n",
    "============ DIVISION  5\n",
    "################################################################################\n",
    "abe.cede\n",
    "adam10603\n",
    "akajayjohn\n",
    "amlegendary96\n",
    "casper258\n",
    "countach92\n",
    "deafplayer\n",
    "declassed\n",
    "divait\n",
    "dogda\n",
    "doompenguin44\n",
    "dv8rx\n",
    "esquzz\n",
    "fab.iceman\n",
    "firefly\n",
    "fivedownactual\n",
    "friendlybaron\n",
    "grievous_94\n",
    "grmpls\n",
    "herogut\n",
    "hiberg\n",
    "horsvarka\n",
    "imfishy\n",
    "j3rryacinonyx\n",
    "justus2036\n",
    "kili31\n",
    "killmeister\n",
    "michiski22\n",
    "mindlessriff\n",
    "mishindmitriy\n",
    "mistarr\n",
    "mrbeattbox\n",
    "nikoflakis\n",
    "nommasch\n",
    "obihoernchen\n",
    "ofmikeandmen\n",
    "ohdarn\n",
    "oldholborn\n",
    "p4ulin4tor\n",
    "positivetension\n",
    "prrevil\n",
    "pseudonymous8128\n",
    "radas59\n",
    "razvanmc23\n",
    "scrazor92\n",
    "serenniel\n",
    "serviinutles\n",
    "silkie\n",
    "smithyonetwelve\n",
    "sunkenviper\n",
    "thedelgadic1\n",
    "thekillswitchh\n",
    "thetruearyan\n",
    "thisisqlimax\n",
    "tohrazer\n",
    "tony_soprano1985\n",
    "toodlesn\n",
    "tsupernami\n",
    "\n"
   ]
  },
  {
   "cell_type": "code",
   "execution_count": null,
   "metadata": {
    "collapsed": true,
    "deletable": true,
    "editable": true
   },
   "outputs": [],
   "source": []
  },
  {
   "cell_type": "code",
   "execution_count": null,
   "metadata": {
    "collapsed": true,
    "deletable": true,
    "editable": true
   },
   "outputs": [],
   "source": []
  },
  {
   "cell_type": "code",
   "execution_count": null,
   "metadata": {
    "collapsed": true,
    "deletable": true,
    "editable": true
   },
   "outputs": [],
   "source": []
  },
  {
   "cell_type": "code",
   "execution_count": null,
   "metadata": {
    "collapsed": true,
    "deletable": true,
    "editable": true
   },
   "outputs": [],
   "source": []
  },
  {
   "cell_type": "code",
   "execution_count": null,
   "metadata": {
    "collapsed": true,
    "deletable": true,
    "editable": true
   },
   "outputs": [],
   "source": [
    "Brioso\n",
    "Burgershot Stallion\n",
    "Carbonizzare\n",
    "Comet\n",
    "Feltzer\n",
    "Futo\n",
    "Glendale\n",
    "Huntley S\n",
    "Jackal\n",
    "Monroe\n",
    "Prairie\n",
    "Rhapsody\n",
    "Stirling GT\n",
    "Warrener\n",
    "\n"
   ]
  },
  {
   "cell_type": "code",
   "execution_count": null,
   "metadata": {
    "collapsed": true,
    "deletable": true,
    "editable": true
   },
   "outputs": [],
   "source": []
  },
  {
   "cell_type": "code",
   "execution_count": null,
   "metadata": {
    "collapsed": true,
    "deletable": true,
    "editable": true
   },
   "outputs": [],
   "source": []
  },
  {
   "cell_type": "code",
   "execution_count": null,
   "metadata": {
    "collapsed": true,
    "deletable": true,
    "editable": true
   },
   "outputs": [],
   "source": []
  },
  {
   "cell_type": "code",
   "execution_count": null,
   "metadata": {
    "collapsed": true,
    "deletable": true,
    "editable": true
   },
   "outputs": [],
   "source": []
  },
  {
   "cell_type": "code",
   "execution_count": null,
   "metadata": {
    "collapsed": true,
    "deletable": true,
    "editable": true
   },
   "outputs": [],
   "source": []
  },
  {
   "cell_type": "code",
   "execution_count": null,
   "metadata": {
    "collapsed": true,
    "deletable": true,
    "editable": true
   },
   "outputs": [],
   "source": []
  },
  {
   "cell_type": "code",
   "execution_count": null,
   "metadata": {
    "collapsed": true,
    "deletable": true,
    "editable": true
   },
   "outputs": [],
   "source": []
  },
  {
   "cell_type": "code",
   "execution_count": null,
   "metadata": {
    "collapsed": true,
    "deletable": true,
    "editable": true
   },
   "outputs": [],
   "source": []
  },
  {
   "cell_type": "code",
   "execution_count": null,
   "metadata": {
    "collapsed": true,
    "deletable": true,
    "editable": true
   },
   "outputs": [],
   "source": []
  },
  {
   "cell_type": "code",
   "execution_count": null,
   "metadata": {
    "collapsed": true,
    "deletable": true,
    "editable": true
   },
   "outputs": [],
   "source": []
  },
  {
   "cell_type": "code",
   "execution_count": null,
   "metadata": {
    "collapsed": true,
    "deletable": true,
    "editable": true
   },
   "outputs": [],
   "source": []
  },
  {
   "cell_type": "code",
   "execution_count": null,
   "metadata": {
    "collapsed": true,
    "deletable": true,
    "editable": true
   },
   "outputs": [],
   "source": []
  },
  {
   "cell_type": "code",
   "execution_count": null,
   "metadata": {
    "collapsed": true,
    "deletable": true,
    "editable": true
   },
   "outputs": [],
   "source": []
  },
  {
   "cell_type": "code",
   "execution_count": null,
   "metadata": {
    "collapsed": true,
    "deletable": true,
    "editable": true
   },
   "outputs": [],
   "source": []
  },
  {
   "cell_type": "code",
   "execution_count": null,
   "metadata": {
    "collapsed": true,
    "deletable": true,
    "editable": true
   },
   "outputs": [],
   "source": []
  },
  {
   "cell_type": "code",
   "execution_count": null,
   "metadata": {
    "collapsed": true,
    "deletable": true,
    "editable": true
   },
   "outputs": [],
   "source": []
  },
  {
   "cell_type": "code",
   "execution_count": null,
   "metadata": {
    "collapsed": true,
    "deletable": true,
    "editable": true
   },
   "outputs": [],
   "source": []
  },
  {
   "cell_type": "code",
   "execution_count": null,
   "metadata": {
    "collapsed": true,
    "deletable": true,
    "editable": true
   },
   "outputs": [],
   "source": []
  },
  {
   "cell_type": "code",
   "execution_count": null,
   "metadata": {
    "collapsed": true,
    "deletable": true,
    "editable": true
   },
   "outputs": [],
   "source": []
  },
  {
   "cell_type": "code",
   "execution_count": null,
   "metadata": {
    "collapsed": true,
    "deletable": true,
    "editable": true
   },
   "outputs": [],
   "source": []
  },
  {
   "cell_type": "code",
   "execution_count": null,
   "metadata": {
    "collapsed": true,
    "deletable": true,
    "editable": true
   },
   "outputs": [],
   "source": []
  },
  {
   "cell_type": "code",
   "execution_count": null,
   "metadata": {
    "collapsed": true,
    "deletable": true,
    "editable": true
   },
   "outputs": [],
   "source": []
  },
  {
   "cell_type": "code",
   "execution_count": null,
   "metadata": {
    "collapsed": true,
    "deletable": true,
    "editable": true
   },
   "outputs": [],
   "source": []
  },
  {
   "cell_type": "code",
   "execution_count": null,
   "metadata": {
    "collapsed": true,
    "deletable": true,
    "editable": true
   },
   "outputs": [],
   "source": []
  },
  {
   "cell_type": "code",
   "execution_count": null,
   "metadata": {
    "collapsed": true,
    "deletable": true,
    "editable": true
   },
   "outputs": [],
   "source": []
  }
 ],
 "metadata": {
  "kernelspec": {
   "display_name": "Python 3",
   "language": "python",
   "name": "python3"
  },
  "language_info": {
   "codemirror_mode": {
    "name": "ipython",
    "version": 3
   },
   "file_extension": ".py",
   "mimetype": "text/x-python",
   "name": "python",
   "nbconvert_exporter": "python",
   "pygments_lexer": "ipython3",
   "version": "3.5.1"
  }
 },
 "nbformat": 4,
 "nbformat_minor": 2
}
