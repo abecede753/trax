{
 "cells": [
  {
   "cell_type": "code",
   "execution_count": 1,
   "metadata": {
    "collapsed": true,
    "deletable": true,
    "editable": true
   },
   "outputs": [],
   "source": [
    "import os, sys\n",
    "sys.path.insert(0, '/home/trax/trax/website')\n",
    "os.environ.setdefault(\"DJANGO_SETTINGS_MODULE\", \"trax.settings\")\n",
    "import django\n",
    "django.setup()\n",
    "from tracks.models import Track, Laptime\n",
    "from players.models import Player"
   ]
  },
  {
   "cell_type": "markdown",
   "metadata": {
    "deletable": true,
    "editable": true
   },
   "source": [
    "# Fetch the users"
   ]
  },
  {
   "cell_type": "code",
   "execution_count": 9,
   "metadata": {
    "collapsed": false,
    "deletable": true,
    "editable": true
   },
   "outputs": [
    {
     "name": "stdout",
     "output_type": "stream",
     "text": [
      "thekillswitchh thekillswitchhh\n"
     ]
    },
    {
     "data": {
      "text/plain": [
       "(datetime.datetime(2017, 3, 14, 14, 28, 17, 617001, tzinfo=<UTC>),\n",
       " datetime.datetime(2017, 3, 7, 11, 7, 46, 861288, tzinfo=<UTC>))"
      ]
     },
     "execution_count": 9,
     "metadata": {},
     "output_type": "execute_result"
    }
   ],
   "source": [
    "a, b = Player.objects.filter(username__icontains='killsw')\n",
    "print(a,b)\n",
    "a.last_login, b.last_login"
   ]
  },
  {
   "cell_type": "code",
   "execution_count": 15,
   "metadata": {
    "collapsed": false,
    "deletable": true,
    "editable": true
   },
   "outputs": [
    {
     "name": "stdout",
     "output_type": "stream",
     "text": [
      "Tracks:\n",
      "Laptimes:\n",
      "The Epsilon Racetrack\n"
     ]
    }
   ],
   "source": [
    "print(\"Tracks:\")\n",
    "for t in Track.objects.filter(creator=b):\n",
    "    print(t)\n",
    "print(\"Laptimes:\")\n",
    "for l in Laptime.objects.filter(player=b):\n",
    "    print(l.track)"
   ]
  },
  {
   "cell_type": "code",
   "execution_count": 17,
   "metadata": {
    "collapsed": false,
    "deletable": true,
    "editable": true
   },
   "outputs": [],
   "source": [
    "l.player = a\n",
    "l.save()"
   ]
  },
  {
   "cell_type": "code",
   "execution_count": 21,
   "metadata": {
    "collapsed": false,
    "deletable": true,
    "editable": true
   },
   "outputs": [
    {
     "name": "stdout",
     "output_type": "stream",
     "text": [
      "<QuerySet []>\n",
      "<QuerySet []>\n",
      "<QuerySet []>\n",
      "<QuerySet []>\n",
      "<QuerySet []>\n",
      "<QuerySet []>\n",
      "<QuerySet []>\n",
      "<QuerySet []>\n",
      "<QuerySet []>\n"
     ]
    }
   ],
   "source": [
    "print(b.track_set.all())\n",
    "print(b.laptime_set.all())\n",
    "print(b.logentry_set.all())\n",
    "print(b.pitaparticipation_set.all())\n",
    "print(b.pitassistant_set.all())\n",
    "print(b.pitlogentry_set.all())\n",
    "print(b.playervehicle_set.all())\n",
    "print(b.ssrparticipation_set.all())\n",
    "print(b.staggeredstartrace_set.all())"
   ]
  },
  {
   "cell_type": "code",
   "execution_count": 23,
   "metadata": {
    "collapsed": false,
    "deletable": true,
    "editable": true
   },
   "outputs": [],
   "source": [
    "# b.delete()"
   ]
  },
  {
   "cell_type": "code",
   "execution_count": null,
   "metadata": {
    "collapsed": true,
    "deletable": true,
    "editable": true
   },
   "outputs": [],
   "source": []
  }
 ],
 "metadata": {
  "kernelspec": {
   "display_name": "Python 3",
   "language": "python",
   "name": "python3"
  },
  "language_info": {
   "codemirror_mode": {
    "name": "ipython",
    "version": 3
   },
   "file_extension": ".py",
   "mimetype": "text/x-python",
   "name": "python",
   "nbconvert_exporter": "python",
   "pygments_lexer": "ipython3",
   "version": "3.5.1"
  }
 },
 "nbformat": 4,
 "nbformat_minor": 2
}
