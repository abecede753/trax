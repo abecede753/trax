{
 "cells": [
  {
   "cell_type": "code",
   "execution_count": 3,
   "metadata": {
    "collapsed": true,
    "deletable": true,
    "editable": true
   },
   "outputs": [],
   "source": [
    "import os, sys\n",
    "sys.path.insert(0, '/home/trax/trax/website')\n",
    "os.environ.setdefault(\"DJANGO_SETTINGS_MODULE\", \"trax.settings\")\n",
    "import django\n",
    "django.setup()\n",
    "from tracks.models import Track, Laptime\n",
    "from players.models import Player\n",
    "from events.models import *\n",
    "from vehicles.models import *"
   ]
  },
  {
   "cell_type": "markdown",
   "metadata": {
    "deletable": true,
    "editable": true
   },
   "source": [
    "# Most recent laptimes"
   ]
  },
  {
   "cell_type": "code",
   "execution_count": 13,
   "metadata": {
    "collapsed": false,
    "deletable": true,
    "editable": true
   },
   "outputs": [
    {
     "name": "stdout",
     "output_type": "stream",
     "text": [
      "og_space_ghost 5947 2018-06-19 05:17:37.135001+00:00\n"
     ]
    }
   ],
   "source": [
    "ALREADY_SEEN_UNTIL = 5947\n",
    "t = Track.objects.get(title__icontains=\"KIFFLOM\")\n",
    "laps = Laptime.objects.filter(track=t, pk__gte=ALREADY_SEEN_UNTIL).order_by('-pk')\n",
    "seen_users = []\n",
    "for l in laps:\n",
    "    if l.player in seen_users:\n",
    "        continue\n",
    "    else:\n",
    "        print (l.player, l.pk, l.created)\n",
    "        seen_users.append(l.player)\n",
    "        "
   ]
  },
  {
   "cell_type": "code",
   "execution_count": 3,
   "metadata": {
    "collapsed": false,
    "deletable": true,
    "editable": true
   },
   "outputs": [
    {
     "data": {
      "text/plain": [
       "'https://ibb.co/iD9dtT'"
      ]
     },
     "execution_count": 3,
     "metadata": {},
     "output_type": "execute_result"
    }
   ],
   "source": [
    "l.link"
   ]
  },
  {
   "cell_type": "code",
   "execution_count": 4,
   "metadata": {
    "collapsed": false,
    "deletable": true,
    "editable": true
   },
   "outputs": [
    {
     "name": "stdout",
     "output_type": "stream",
     "text": [
      "FISH KIFFLOM Attack cronixx TEPCOTT Season 3 Registration\n"
     ]
    }
   ],
   "source": [
    "t = Track.objects.get(title__icontains=\"KIFFLOM\")\n",
    "u = Player.objects.get(username='cronixx')\n",
    "hle = Hotlapping.objects.get(pk=32)\n",
    "print(t.title, u.username, hle.title)"
   ]
  },
  {
   "cell_type": "code",
   "execution_count": null,
   "metadata": {
    "collapsed": true,
    "deletable": true,
    "editable": true
   },
   "outputs": [],
   "source": []
  },
  {
   "cell_type": "code",
   "execution_count": 6,
   "metadata": {
    "collapsed": false,
    "deletable": true,
    "editable": true
   },
   "outputs": [
    {
     "name": "stdout",
     "output_type": "stream",
     "text": [
      "1065 5800  https://www.gtaracing.net/tc3qualifying\n",
      "1089 5824 https://www.gtaracing.net/e/hl/32/\n",
      "1090 5825 http://prntscr.com/jt9u6t\n"
     ]
    }
   ],
   "source": [
    "laps = Laptime.objects.filter(player=u, track=t).order_by('-millis')\n",
    "for lap in laps:\n",
    "    hllt = lap.hotlappinglaptime_set.all()[0]\n",
    "    print(hllt.pk, hllt.laptime_id, hllt.laptime.link)"
   ]
  },
  {
   "cell_type": "code",
   "execution_count": 8,
   "metadata": {
    "collapsed": false,
    "deletable": true,
    "editable": true
   },
   "outputs": [
    {
     "data": {
      "text/plain": [
       "(4,\n",
       " {'events.HotlappingLaptime': 2,\n",
       "  'events.SSRParticipation': 0,\n",
       "  'tracks.Laptime': 2})"
      ]
     },
     "execution_count": 8,
     "metadata": {},
     "output_type": "execute_result"
    }
   ],
   "source": [
    "Laptime.objects.filter(pk__in=[5824, 5800]).delete()"
   ]
  },
  {
   "cell_type": "code",
   "execution_count": 17,
   "metadata": {
    "collapsed": true,
    "deletable": true,
    "editable": true
   },
   "outputs": [],
   "source": [
    "hle = Hotlapping.objects.get(pk=32)"
   ]
  },
  {
   "cell_type": "code",
   "execution_count": 24,
   "metadata": {
    "collapsed": false,
    "deletable": true,
    "editable": true
   },
   "outputs": [
    {
     "data": {
      "text/plain": [
       "'TEPCOTT Season 3 Registration'"
      ]
     },
     "execution_count": 24,
     "metadata": {},
     "output_type": "execute_result"
    }
   ],
   "source": [
    "hle.title"
   ]
  },
  {
   "cell_type": "code",
   "execution_count": 20,
   "metadata": {
    "collapsed": true,
    "deletable": true,
    "editable": true
   },
   "outputs": [],
   "source": [
    "l = laps[1]"
   ]
  },
  {
   "cell_type": "code",
   "execution_count": 33,
   "metadata": {
    "collapsed": false,
    "deletable": true,
    "editable": true
   },
   "outputs": [],
   "source": [
    "hllt = HotlappingLaptime.objects.all()[6]"
   ]
  },
  {
   "cell_type": "code",
   "execution_count": 35,
   "metadata": {
    "collapsed": false,
    "deletable": true,
    "editable": true
   },
   "outputs": [
    {
     "data": {
      "text/plain": [
       "(False, <Laptime: benimi FMJ>, 'Lap Time Legends Round 1')"
      ]
     },
     "execution_count": 35,
     "metadata": {},
     "output_type": "execute_result"
    }
   ],
   "source": [
    "hllt.approved, hllt.laptime, hllt.hotlapping.title"
   ]
  },
  {
   "cell_type": "code",
   "execution_count": null,
   "metadata": {
    "collapsed": true,
    "deletable": true,
    "editable": true
   },
   "outputs": [],
   "source": []
  },
  {
   "cell_type": "code",
   "execution_count": null,
   "metadata": {
    "collapsed": true,
    "deletable": true,
    "editable": true
   },
   "outputs": [],
   "source": []
  },
  {
   "cell_type": "code",
   "execution_count": 37,
   "metadata": {
    "collapsed": false,
    "deletable": true,
    "editable": true
   },
   "outputs": [
    {
     "name": "stdout",
     "output_type": "stream",
     "text": [
      "HotlappingLaptime object True\n",
      "HotlappingLaptime object True\n",
      "HotlappingLaptime object True\n",
      "HotlappingLaptime object True\n",
      "HotlappingLaptime object True\n",
      "HotlappingLaptime object True\n",
      "HotlappingLaptime object True\n",
      "HotlappingLaptime object True\n",
      "HotlappingLaptime object True\n",
      "HotlappingLaptime object True\n",
      "HotlappingLaptime object True\n",
      "HotlappingLaptime object True\n",
      "HotlappingLaptime object True\n",
      "HotlappingLaptime object True\n",
      "HotlappingLaptime object True\n",
      "HotlappingLaptime object True\n",
      "HotlappingLaptime object True\n",
      "HotlappingLaptime object True\n",
      "HotlappingLaptime object True\n",
      "HotlappingLaptime object True\n",
      "HotlappingLaptime object True\n",
      "HotlappingLaptime object True\n",
      "HotlappingLaptime object True\n",
      "HotlappingLaptime object True\n",
      "HotlappingLaptime object True\n",
      "HotlappingLaptime object True\n",
      "HotlappingLaptime object True\n",
      "HotlappingLaptime object True\n",
      "HotlappingLaptime object True\n",
      "HotlappingLaptime object True\n",
      "HotlappingLaptime object True\n",
      "HotlappingLaptime object True\n",
      "HotlappingLaptime object True\n",
      "HotlappingLaptime object True\n",
      "HotlappingLaptime object True\n",
      "HotlappingLaptime object True\n",
      "HotlappingLaptime object True\n",
      "HotlappingLaptime object True\n",
      "HotlappingLaptime object True\n",
      "HotlappingLaptime object True\n",
      "HotlappingLaptime object True\n",
      "HotlappingLaptime object True\n",
      "HotlappingLaptime object True\n",
      "HotlappingLaptime object True\n",
      "HotlappingLaptime object True\n",
      "HotlappingLaptime object True\n",
      "HotlappingLaptime object True\n",
      "HotlappingLaptime object True\n",
      "HotlappingLaptime object True\n",
      "HotlappingLaptime object True\n",
      "HotlappingLaptime object True\n",
      "HotlappingLaptime object True\n",
      "HotlappingLaptime object True\n",
      "HotlappingLaptime object True\n",
      "HotlappingLaptime object True\n",
      "HotlappingLaptime object True\n",
      "HotlappingLaptime object True\n",
      "HotlappingLaptime object True\n",
      "HotlappingLaptime object True\n",
      "HotlappingLaptime object True\n",
      "HotlappingLaptime object True\n",
      "HotlappingLaptime object True\n",
      "HotlappingLaptime object True\n",
      "HotlappingLaptime object True\n",
      "HotlappingLaptime object True\n",
      "HotlappingLaptime object True\n",
      "HotlappingLaptime object True\n",
      "HotlappingLaptime object True\n",
      "HotlappingLaptime object True\n",
      "HotlappingLaptime object True\n",
      "HotlappingLaptime object True\n",
      "HotlappingLaptime object True\n",
      "HotlappingLaptime object True\n",
      "HotlappingLaptime object True\n",
      "HotlappingLaptime object True\n",
      "HotlappingLaptime object True\n",
      "HotlappingLaptime object True\n",
      "HotlappingLaptime object True\n",
      "HotlappingLaptime object True\n",
      "HotlappingLaptime object True\n",
      "HotlappingLaptime object True\n",
      "HotlappingLaptime object True\n",
      "HotlappingLaptime object True\n",
      "HotlappingLaptime object True\n"
     ]
    }
   ],
   "source": [
    "for hll in laps:\n",
    "    x, y = HotlappingLaptime.objects.get_or_create(approved=True, laptime=hll, hotlapping=hle)\n",
    "    print (x, y)"
   ]
  },
  {
   "cell_type": "code",
   "execution_count": 6,
   "metadata": {
    "collapsed": true,
    "deletable": true,
    "editable": true
   },
   "outputs": [],
   "source": [
    "u = Player.objects.get(username__icontains=\"the_cuunt\")"
   ]
  },
  {
   "cell_type": "code",
   "execution_count": 4,
   "metadata": {
    "collapsed": false,
    "deletable": true,
    "editable": true
   },
   "outputs": [
    {
     "data": {
      "text/plain": [
       "'esquzz'"
      ]
     },
     "execution_count": 4,
     "metadata": {},
     "output_type": "execute_result"
    }
   ],
   "source": [
    "u.username"
   ]
  },
  {
   "cell_type": "code",
   "execution_count": 7,
   "metadata": {
    "collapsed": true,
    "deletable": true,
    "editable": true
   },
   "outputs": [],
   "source": [
    "u.username = 'esqy'\n",
    "u.save()"
   ]
  },
  {
   "cell_type": "code",
   "execution_count": null,
   "metadata": {
    "collapsed": true,
    "deletable": true,
    "editable": true
   },
   "outputs": [],
   "source": []
  }
 ],
 "metadata": {
  "kernelspec": {
   "display_name": "Python 3",
   "language": "python",
   "name": "python3"
  },
  "language_info": {
   "codemirror_mode": {
    "name": "ipython",
    "version": 3
   },
   "file_extension": ".py",
   "mimetype": "text/x-python",
   "name": "python",
   "nbconvert_exporter": "python",
   "pygments_lexer": "ipython3",
   "version": "3.5.1"
  }
 },
 "nbformat": 4,
 "nbformat_minor": 2
}
