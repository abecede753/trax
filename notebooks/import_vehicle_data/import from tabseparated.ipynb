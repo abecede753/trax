{
 "cells": [
  {
   "cell_type": "code",
   "execution_count": 1,
   "metadata": {
    "collapsed": false,
    "deletable": true,
    "editable": true
   },
   "outputs": [],
   "source": [
    "import os, sys\n",
    "sys.path.insert(0, '/home/trax/trax/website')\n",
    "os.environ.setdefault(\"DJANGO_SETTINGS_MODULE\", \"trax.settings\")\n",
    "import django\n",
    "django.setup()"
   ]
  },
  {
   "cell_type": "code",
   "execution_count": 3,
   "metadata": {
    "collapsed": false,
    "deletable": true,
    "editable": true
   },
   "outputs": [],
   "source": [
    "from fuzzywuzzy import fuzz, process\n",
    "from tracks.models import Track\n",
    "from vehicles.models import Vehicle, VehicleClass\n",
    "from trax.utils import get_object_by_string\n",
    "\n",
    "def lt2millis(parts):\n",
    "    m, rest = parts.split(':')\n",
    "    millis = 1000 * (int(m)*60 + float(rest))\n",
    "    return millis\n",
    "\n",
    "def get_object_by_string(s, klass, attribute, score_cutoff=90):\n",
    "    choices = klass.objects.all().values_list(attribute, flat=True)\n",
    "    result = process.extractOne(s, choices,\n",
    "                                score_cutoff=score_cutoff)\n",
    "    if result:\n",
    "        return klass.objects.get(**{attribute:result[0]})\n"
   ]
  },
  {
   "cell_type": "code",
   "execution_count": 19,
   "metadata": {
    "collapsed": true,
    "deletable": true,
    "editable": true
   },
   "outputs": [],
   "source": [
    "data = '''Sports\t9F\t1:04.125\t119.75\n",
    "Sports\t9F Cabrio\t1:04.157\t119.75\n",
    "Sports\tAlpha\t1:05.732\t117.75\n",
    "Sports\tBanshee\t1:06.066\t117.75\n",
    "Sports\tBestia GTS\t1:04.364\t118.75\n",
    "Sports\tBlista Compact\t1:15.408\t103\n",
    "Sports\tBuffalo\t1:08.503\t112.25\n",
    "Sports\tBuffalo S\t1:08.001\t112.25\n",
    "Sports\tCarbonizzare\t1:05.699\t119.5\n",
    "Sports\tComet\t1:05.130\t119.5\n",
    "Sports\tComet Retro Custom\t1:05.632\t121.25\n",
    "Sports\tCoquette\t1:06.333\t119.25\n",
    "Sports\tDrift Tampa\t1:08.334\t114.25\n",
    "Sports\tElegy Retro Custom\t1:03.483\t115.25\n",
    "Sports\tElegy RH8\t1:02.529\t118.5\n",
    "Sports\tFeltzer\t1:03.229\t119.5\n",
    "Sports\tFurore GT\t1:08.502\t120.25\n",
    "Sports\tFusilade\t1:08.652\t117.75\n",
    "Sports\tFuto\t1:12.706\t119.25\n",
    "Sports\tGo Go Monkey Blista\t1:15.402\t103\n",
    "Sports\tJester\t1:03.763\t118.75\n",
    "Sports\tJester (Racecar)\t1:03.363\t119.25\n",
    "Sports\tKhamelion\t1:08.301\t102.25\n",
    "Sports\tKuruma\t1:06.800\t112\n",
    "Sports\tKuruma (Armored)\t1:09.036\t109.75\n",
    "Sports\tLynx\t1:07.133\t121.5\n",
    "Sports\tMassacro\t1:03.864\t121.75\n",
    "Sports\tMassacro (Racecar)\t1:03.810\t121.75\n",
    "Sports\tOmnis\t1:07.600\t112.5\n",
    "Sports\tPenumbra\t1:12.243\t105.25\n",
    "Sports\tRapid GT\t1:08.419\t119.5\n",
    "Sports\tRapid GT\t1:08.434\t119.5\n",
    "Sports\tRaptor\t1:11.371\t103.25\n",
    "Sports\tSchafter LWB\t1:09.769\t109.5\n",
    "Sports\tSchafter V12\t1:05.121\t124.25\n",
    "Sports\tSchwartzer\t1:11.105\t117\n",
    "Sports\tSeven-70\t1:04.764\t123.5\n",
    "Sports\tSpecter\t1:04.398\t121.25\n",
    "Sports\tSpecter Custom\t1:04.998\t121.25\n",
    "Sports\tSprunk Buffalo\t1:07.234\t116\n",
    "Sports\tSultan\t1:05.834\t115.75\n",
    "Sports\tSurano\t1:04.531\t121\n",
    "Sports\tTropos Rallye\t1:06.866\t119.5\n",
    "Sports\tVerlierer\t1:05.659\t121.75\n",
    "Sports Classics\tCasco\t1:10.337\t120\n",
    "Sports Classics\tCoquette Classic\t1:11.470\t118\n",
    "Sports Classics\tFranken Stange\t1:16.909\t106.5\n",
    "Sports Classics\tJB 700\t1:12.071\t119.25\n",
    "Sports Classics\tMamba\t1:12.372\t117\n",
    "Sports Classics\tManana\t1:23.183\t98.25\n",
    "Sports Classics\tMonroe\t1:11.172\t122\n",
    "Sports Classics\tPeyote\t1:24.751\t98.25\n",
    "Sports Classics\tPigalle\t1:10.169\t121.25\n",
    "Sports Classics\tRoosevelt\t1:17.344\t98.5\n",
    "Sports Classics\tRoosevelt Valor\t1:16.406\t98.5\n",
    "Sports Classics\tStinger\t1:13.239\t112\n",
    "Sports Classics\tStinger GT\t1:12.972\t112\n",
    "Sports Classics\tStirling GT\t1:06.166\t112\n",
    "Sports Classics\tTornado\t1:26.353\t98.25\n",
    "Sports Classics\tTornado Cabrio\t1:26.356\t98.25\n",
    "Sports Classics\tTornado Custom\t1:24.417\t98.25\n",
    "Sports Classics\tTornado Mariachi\t1:31.891\t91.25\n",
    "Sports Classics\tTornado Rat Rod\t1:18.277\t98.75\n",
    "Sports Classics\tZ-Type\t1:09.368\t126.25\n",
    "Supers\t811\t1:03.930\t129.25\n",
    "Supers\tAdder\t1:04.964\t124.75\n",
    "Supers\tBanshee 900R\t1:04.565\t131\n",
    "Supers\tBullet\t1:08.034\t118.75\n",
    "Supers\tCheetah\t1:03.530\t120.25\n",
    "Supers\tEntity XF\t1:02.323\t121.5\n",
    "Supers\tETR1\t1:01.728\t120.75\n",
    "Supers\tFMJ\t1:01.795\t125\n",
    "Supers\tInfernus\t1:02.929\t117.75\n",
    "Supers\tItali GTB\t1:01.861\t126.25\n",
    "Supers\tItali GTB Custom\t1:02.896\t127\n",
    "Supers\tNero\t1:01.495\t126.5\n",
    "Supers\tNero Custom\t1:01.061\t127.25\n",
    "Supers\tOsiris\t1:01.394\t122\n",
    "Supers\tPenetrator\t1:02.562\t124\n",
    "Supers\tRE-7B\t1:00.627\t123.5\n",
    "Supers\tReaper\t1:02.716\t121.75\n",
    "Supers\tRocket Voltic\t1:03.144\t106\n",
    "Supers\tSultan RS\t1:04.364\t117.25\n",
    "Supers\tT20\t1:01.287\t122.25\n",
    "Supers\tTempesta\t1:00.803\t121.25\n",
    "Supers\tTurismo R\t1:01.998\t121.75\n",
    "Supers\tTyrus\t1:02.228\t123.5\n",
    "Supers\tVacca\t1:03.964\t120.25\n",
    "Supers\tVoltic\t1:05.798\t106\n",
    "Supers\tX80 Proto\t1:01.175\t127.5\n",
    "Supers\tZentorno\t1:00.960\t122'''"
   ]
  },
  {
   "cell_type": "code",
   "execution_count": 39,
   "metadata": {
    "collapsed": false,
    "deletable": true,
    "editable": true
   },
   "outputs": [
    {
     "name": "stdout",
     "output_type": "stream",
     "text": [
      "9F 64125.0 1:04.125\n",
      "9F Cabrio 64157.0 1:04.157\n",
      "Alpha 65732.0 1:05.732\n",
      "Banshee 66066.0 1:06.066\n",
      "Bestia GTS 64364.00000000001 1:04.364\n",
      "Blista Compact 75408.0 1:15.408\n",
      "Buffalo 68503.0 1:08.503\n",
      "Buffalo S 68001.0 1:08.001\n",
      "Carbonizzare 65699.0 1:05.699\n",
      "Comet 65129.99999999999 1:05.130\n",
      "Comet Retro Custom 65632.0 1:05.632\n",
      "Coquette 66333.0 1:06.333\n",
      "Drift Tampa 68334.0 1:08.334\n",
      "Elegy Retro Custom 63483.0 1:03.483\n",
      "Elegy RH8 62529.0 1:02.529\n",
      "Feltzer 63229.0 1:03.229\n",
      "Furore GT 68502.0 1:08.502\n",
      "Fusilade 68652.0 1:08.652\n",
      "Futo 72706.0 1:12.706\n",
      "Go Go Monkey Blista 75402.0 1:15.402\n",
      "Jester 63763.0 1:03.763\n",
      "Jester (Racecar) 63363.0 1:03.363\n",
      "Khamelion 68301.0 1:08.301\n",
      "Kuruma 66800.0 1:06.800\n",
      "Kuruma (Armored) 69036.0 1:09.036\n",
      "Lynx 67133.0 1:07.133\n",
      "Massacro 63864.0 1:03.864\n",
      "Massacro (Racecar) 63810.0 1:03.810\n",
      "Omnis 67600.0 1:07.600\n",
      "Penumbra 72243.0 1:12.243\n",
      "Rapid GT 68419.0 1:08.419\n",
      "Rapid GT 68434.0 1:08.434\n",
      "Raptor 71371.0 1:11.371\n",
      "Schafter LWB 69769.0 1:09.769\n",
      "Schafter V12 65120.99999999999 1:05.121\n",
      "Schwartzer 71105.0 1:11.105\n",
      "Seven-70 64763.99999999999 1:04.764\n",
      "Specter 64397.99999999999 1:04.398\n",
      "Specter Custom 64998.00000000001 1:04.998\n",
      "Sprunk Buffalo 67234.0 1:07.234\n",
      "Sultan 65834.0 1:05.834\n",
      "Surano 64531.00000000001 1:04.531\n",
      "Tropos Rallye 66866.0 1:06.866\n",
      "Verlierer 65659.0 1:05.659\n",
      "Casco 70337.0 1:10.337\n",
      "Coquette Classic 71470.0 1:11.470\n",
      "Franken Stange 76908.99999999999 1:16.909\n",
      "JB 700 72071.0 1:12.071\n",
      "Mamba 72372.0 1:12.372\n",
      "Manana 83183.0 1:23.183\n",
      "Monroe 71172.0 1:11.172\n",
      "Peyote 84751.0 1:24.751\n",
      "Pigalle 70169.0 1:10.169\n",
      "Roosevelt 77344.0 1:17.344\n",
      "Roosevelt Valor 76406.0 1:16.406\n",
      "Stinger 73239.0 1:13.239\n",
      "Stinger GT 72972.0 1:12.972\n",
      "Stirling GT 66166.0 1:06.166\n",
      "Tornado 86353.00000000001 1:26.353\n",
      "Tornado Cabrio 86356.0 1:26.356\n",
      "Tornado Custom 84417.0 1:24.417\n",
      "Tornado Mariachi 91890.99999999999 1:31.891\n",
      "Tornado Rat Rod 78277.0 1:18.277\n",
      "Z-Type 69368.0 1:09.368\n",
      "811 63930.0 1:03.930\n",
      "Adder 64964.0 1:04.964\n",
      "Banshee 900R 64565.0 1:04.565\n",
      "Bullet 68034.0 1:08.034\n",
      "Cheetah 63530.0 1:03.530\n",
      "Entity XF 62323.0 1:02.323\n",
      "ETR1 61728.0 1:01.728\n",
      "FMJ 61795.0 1:01.795\n",
      "Infernus 62929.0 1:02.929\n",
      "Itali GTB 61861.0 1:01.861\n",
      "Itali GTB Custom 62896.0 1:02.896\n",
      "Nero 61495.0 1:01.495\n",
      "Nero Custom 61061.0 1:01.061\n",
      "Osiris 61394.0 1:01.394\n",
      "Penetrator 62562.0 1:02.562\n",
      "RE-7B 60627.0 1:00.627\n",
      "Reaper 62716.0 1:02.716\n",
      "Rocket Voltic 63144.0 1:03.144\n",
      "Sultan RS 64364.00000000001 1:04.364\n",
      "T20 61287.0 1:01.287\n",
      "Tempesta 60803.0 1:00.803\n",
      "Turismo R 61998.0 1:01.998\n",
      "Tyrus 62228.0 1:02.228\n",
      "Vacca 63964.0 1:03.964\n",
      "Voltic 65798.0 1:05.798\n",
      "X80 Proto 61175.0 1:01.175\n",
      "Zentorno 60960.0 1:00.960\n"
     ]
    }
   ],
   "source": [
    "for line in data.splitlines():\n",
    "    vdata = line.split('\\t')\n",
    "    if vdata[2]:\n",
    "        vv = get_object_by_string(vdata[1], Vehicle, \"name\", score_cutoff=95)\n",
    "        if not vv:\n",
    "            print(\".............................NOT FOUND:\", vdata[1], \"CREATING NOW.\")\n",
    "            vv = Vehicle(name=vdata[1])\n",
    "            # continue\n",
    "        millis = lt2millis(vdata[2])\n",
    "        vv.cc_laptime_millis = millis\n",
    "        vv.topspeed_kmh = float(vdata[3]) * 1.60934\n",
    "        if (vdata[1] != vv.name):\n",
    "            print(\"..... NOT MODIFIED:\", vdata[1], vv.name, vv.pk, vv.cc_laptime_millis, vv.topspeed_kmh)\n",
    "        else:\n",
    "            vv.save()\n",
    "            print(vv.name, vv.cc_laptime_millis, vdata[2])"
   ]
  },
  {
   "cell_type": "code",
   "execution_count": 71,
   "metadata": {
    "collapsed": false,
    "deletable": true,
    "editable": true
   },
   "outputs": [
    {
     "data": {
      "text/plain": [
       "<QuerySet []>"
      ]
     },
     "execution_count": 71,
     "metadata": {},
     "output_type": "execute_result"
    }
   ],
   "source": [
    "Vehicle.objects.exclude(classes__in=vc)"
   ]
  },
  {
   "cell_type": "code",
   "execution_count": 66,
   "metadata": {
    "collapsed": false,
    "deletable": true,
    "editable": true
   },
   "outputs": [],
   "source": [
    "v = Vehicle.objects.get(name=\"Ruiner 2000\")\n",
    "v.classes.add(muscle)\n",
    "v.save()"
   ]
  },
  {
   "cell_type": "code",
   "execution_count": 69,
   "metadata": {
    "collapsed": false,
    "deletable": true,
    "editable": true
   },
   "outputs": [],
   "source": [
    "from vehicles.models import VehicleClass\n",
    "vc  = list(VehicleClass.objects.all().values_list(\"pk\", flat=True))\n",
    "muscle = VehicleClass.objects.get(name=\"Muscle\")\n",
    "off = VehicleClass.objects.get(name=\"Offroad\")\n",
    "suv = VehicleClass.objects.get(name=\"SUV\")\n",
    "mo = VehicleClass.objects.get(name=\"Motorcycle\")"
   ]
  },
  {
   "cell_type": "code",
   "execution_count": 44,
   "metadata": {
    "collapsed": false,
    "deletable": true,
    "editable": true
   },
   "outputs": [
    {
     "data": {
      "text/plain": [
       "[9, 11, 12, 8, 3, 10, 5, 4, 7, 2, 1, 17, 6]"
      ]
     },
     "execution_count": 44,
     "metadata": {},
     "output_type": "execute_result"
    }
   ],
   "source": [
    "vc"
   ]
  },
  {
   "cell_type": "code",
   "execution_count": 63,
   "metadata": {
    "collapsed": false,
    "deletable": true,
    "editable": true
   },
   "outputs": [],
   "source": [
    "a, = Vehicle.objects.filter(name=\"Park Ranger\")"
   ]
  },
  {
   "cell_type": "code",
   "execution_count": 64,
   "metadata": {
    "collapsed": false
   },
   "outputs": [
    {
     "data": {
      "text/plain": [
       "<QuerySet [<VehicleClass: SUV>]>"
      ]
     },
     "execution_count": 64,
     "metadata": {},
     "output_type": "execute_result"
    }
   ],
   "source": [
    "a.classes.all()"
   ]
  },
  {
   "cell_type": "code",
   "execution_count": null,
   "metadata": {
    "collapsed": true
   },
   "outputs": [],
   "source": []
  }
 ],
 "metadata": {
  "kernelspec": {
   "display_name": "Python 3",
   "language": "python",
   "name": "python3"
  },
  "language_info": {
   "codemirror_mode": {
    "name": "ipython",
    "version": 3
   },
   "file_extension": ".py",
   "mimetype": "text/x-python",
   "name": "python",
   "nbconvert_exporter": "python",
   "pygments_lexer": "ipython3",
   "version": "3.5.1"
  }
 },
 "nbformat": 4,
 "nbformat_minor": 0
}
