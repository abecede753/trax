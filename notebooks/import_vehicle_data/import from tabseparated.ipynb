{
 "cells": [
  {
   "cell_type": "code",
   "execution_count": 1,
   "metadata": {
    "collapsed": false,
    "deletable": true,
    "editable": true
   },
   "outputs": [],
   "source": [
    "import os, sys\n",
    "sys.path.insert(0, '/home/trax/trax/website')\n",
    "os.environ.setdefault(\"DJANGO_SETTINGS_MODULE\", \"trax.settings\")\n",
    "import django\n",
    "django.setup()"
   ]
  },
  {
   "cell_type": "code",
   "execution_count": 2,
   "metadata": {
    "collapsed": false,
    "deletable": true,
    "editable": true
   },
   "outputs": [],
   "source": [
    "from fuzzywuzzy import fuzz, process\n",
    "from tracks.models import Track\n",
    "from vehicles.models import Vehicle, VehicleClass\n",
    "from trax.utils import get_object_by_string\n",
    "\n",
    "def lt2millis(parts):\n",
    "    m, rest = parts.split(':')\n",
    "    millis = 1000 * (int(m)*60 + float(rest))\n",
    "    return millis\n",
    "\n",
    "def get_object_by_string(s, klass, attribute, score_cutoff=90):\n",
    "    choices = klass.objects.all().values_list(attribute, flat=True)\n",
    "    result = process.extractOne(s, choices,\n",
    "                                score_cutoff=score_cutoff)\n",
    "    if result:\n",
    "        return klass.objects.get(**{attribute:result[0]})\n"
   ]
  },
  {
   "cell_type": "code",
   "execution_count": 6,
   "metadata": {
    "collapsed": true,
    "deletable": true,
    "editable": true
   },
   "outputs": [],
   "source": [
    "data = '''Sports\tRuston\t1:08.201\t116.3'''"
   ]
  },
  {
   "cell_type": "code",
   "execution_count": 7,
   "metadata": {
    "collapsed": false,
    "deletable": true,
    "editable": true
   },
   "outputs": [
    {
     "name": "stdout",
     "output_type": "stream",
     "text": [
      "Ruston 68201.0 187.16624199999998 1:08.201\n"
     ]
    }
   ],
   "source": [
    "for line in data.splitlines():\n",
    "    vdata = line.split('\\t')\n",
    "    if vdata[2]:\n",
    "        vv = get_object_by_string(vdata[1], Vehicle, \"name\", score_cutoff=95)\n",
    "        if not vv:\n",
    "            print(\".............................NOT FOUND:\", vdata[1])   # , \"CREATING NOW.\")\n",
    "            # vv = Vehicle(name=vdata[1])\n",
    "            continue\n",
    "        millis = lt2millis(vdata[2])\n",
    "        vv.cc_laptime_millis = millis\n",
    "        vv.topspeed_kmh = float(vdata[3]) * 1.60934\n",
    "        if (vdata[1] != vv.name):\n",
    "            print(\"..... NOT MODIFIED:\", vdata[1], vv.name, vv.pk, vv.cc_laptime_millis, vv.topspeed_kmh)\n",
    "        else:\n",
    "            vv.save()\n",
    "            print(vv.name, vv.cc_laptime_millis, vv.topspeed_kmh, vdata[2])"
   ]
  },
  {
   "cell_type": "code",
   "execution_count": 71,
   "metadata": {
    "collapsed": false,
    "deletable": true,
    "editable": true
   },
   "outputs": [
    {
     "data": {
      "text/plain": [
       "<QuerySet []>"
      ]
     },
     "execution_count": 71,
     "metadata": {},
     "output_type": "execute_result"
    }
   ],
   "source": [
    "Vehicle.objects.exclude(classes__in=vc)"
   ]
  },
  {
   "cell_type": "code",
   "execution_count": 8,
   "metadata": {
    "collapsed": false,
    "deletable": true,
    "editable": true
   },
   "outputs": [],
   "source": [
    "v = Vehicle.objects.get(name=\"Ruston\")\n",
    "v.classes.add(sp)\n",
    "v.save()"
   ]
  },
  {
   "cell_type": "code",
   "execution_count": 7,
   "metadata": {
    "collapsed": false,
    "deletable": true,
    "editable": true
   },
   "outputs": [],
   "source": [
    "from vehicles.models import VehicleClass\n",
    "vc  = list(VehicleClass.objects.all().values_list(\"pk\", flat=True))\n",
    "muscle = VehicleClass.objects.get(name=\"Muscle\")\n",
    "off = VehicleClass.objects.get(name=\"Offroad\")\n",
    "suv = VehicleClass.objects.get(name=\"SUV\")\n",
    "mo = VehicleClass.objects.get(name=\"Motorcycle\")\n",
    "sp = VehicleClass.objects.get(name=\"Sport\")"
   ]
  },
  {
   "cell_type": "code",
   "execution_count": 44,
   "metadata": {
    "collapsed": false,
    "deletable": true,
    "editable": true
   },
   "outputs": [
    {
     "data": {
      "text/plain": [
       "[9, 11, 12, 8, 3, 10, 5, 4, 7, 2, 1, 17, 6]"
      ]
     },
     "execution_count": 44,
     "metadata": {},
     "output_type": "execute_result"
    }
   ],
   "source": [
    "vc"
   ]
  },
  {
   "cell_type": "code",
   "execution_count": 9,
   "metadata": {
    "collapsed": false,
    "deletable": true,
    "editable": true
   },
   "outputs": [],
   "source": [
    "a, = Vehicle.objects.filter(name=\"Ruston\")"
   ]
  },
  {
   "cell_type": "code",
   "execution_count": 10,
   "metadata": {
    "collapsed": false,
    "deletable": true,
    "editable": true
   },
   "outputs": [
    {
     "data": {
      "text/plain": [
       "<QuerySet [<VehicleClass: Sport>]>"
      ]
     },
     "execution_count": 10,
     "metadata": {},
     "output_type": "execute_result"
    }
   ],
   "source": [
    "a.classes.all()"
   ]
  },
  {
   "cell_type": "code",
   "execution_count": null,
   "metadata": {
    "collapsed": true,
    "deletable": true,
    "editable": true
   },
   "outputs": [],
   "source": []
  }
 ],
 "metadata": {
  "kernelspec": {
   "display_name": "Python 3",
   "language": "python",
   "name": "python3"
  },
  "language_info": {
   "codemirror_mode": {
    "name": "ipython",
    "version": 3
   },
   "file_extension": ".py",
   "mimetype": "text/x-python",
   "name": "python",
   "nbconvert_exporter": "python",
   "pygments_lexer": "ipython3",
   "version": "3.5.1"
  }
 },
 "nbformat": 4,
 "nbformat_minor": 0
}
