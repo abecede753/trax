{
 "cells": [
  {
   "cell_type": "code",
   "execution_count": 1,
   "metadata": {
    "collapsed": false,
    "deletable": true,
    "editable": true
   },
   "outputs": [],
   "source": [
    "import os, sys\n",
    "sys.path.insert(0, '/home/trax/trax/website')\n",
    "os.environ.setdefault(\"DJANGO_SETTINGS_MODULE\", \"trax.settings\")\n",
    "import django\n",
    "django.setup()"
   ]
  },
  {
   "cell_type": "code",
   "execution_count": 67,
   "metadata": {
    "collapsed": false,
    "deletable": true,
    "editable": true
   },
   "outputs": [],
   "source": [
    "from fuzzywuzzy import fuzz, process\n",
    "from tracks.models import Track\n",
    "from vehicles.models import Vehicle, VehicleClass\n",
    "from trax.utils import get_object_by_string\n",
    "\n",
    "def lt2millis(parts):\n",
    "    m, rest = parts.split(':')\n",
    "    millis = 1000 * (int(m)*60 + float(rest))\n",
    "    return millis\n",
    "\n",
    "def get_object_by_string(s, klass, attribute, score_cutoff=90):\n",
    "    choices = klass.objects.all().values_list(attribute, flat=True)\n",
    "    result = process.extractOne(s, choices,\n",
    "                                score_cutoff=score_cutoff)\n",
    "    if result:\n",
    "        return klass.objects.get(**{attribute:result[0]})\n"
   ]
  },
  {
   "cell_type": "code",
   "execution_count": 3,
   "metadata": {
    "collapsed": true,
    "deletable": true,
    "editable": true
   },
   "outputs": [],
   "source": [
    "data = '''Motorcycles\tAkuma\t0:58.892\t121.25\n",
    "Motorcycles\tAvarus\t1:07.168\t107.5\n",
    "Motorcycles\tBagger\t1:13.907\t98\n",
    "Motorcycles\tBati 801\t0:58.625\t131.5\n",
    "Motorcycles\tBF400\t1:03.263\t127\n",
    "Motorcycles\tCarbon RS\t1:00.960\t124.25\n",
    "Motorcycles\tChimera\t1:08.935\t103\n",
    "Motorcycles\tCliffhanger\t1:02.595\t124.75\n",
    "Motorcycles\tDaemon\t1:08.635\t106.5\n",
    "Motorcycles\tDaemon (Lost)\t1:07.834\t107\n",
    "Motorcycles\tDefiler\t1:00.326\t117\n",
    "Motorcycles\tDiabolus\t1:04.297\t114.25\n",
    "Motorcycles\tDiabolus Custom\t1:02.896\t115.25\n",
    "Motorcycles\tDouble-T\t1:00.261\t118\n",
    "Motorcycles\tEnduro\t1:09.137\t107.25\n",
    "Motorcycles\tEsskey\t1:06.399\t112.75\n",
    "Motorcycles\tFaggio\t1:30.125\t103.25\n",
    "Motorcycles\tFaggio Mod\t1:27.154\t74.25\n",
    "Motorcycles\tFaggio Sport\t1:25.318\t76.75\n",
    "Motorcycles\tFCR 1000\t1:03.230\t112\n",
    "Motorcycles\tFCR 1000 Custom\t1:02.396\t112.5\n",
    "Motorcycles\tGargoyle\t1:02.628\t125\n",
    "Motorcycles\tHakuchou\t1:00.760\t131\n",
    "Motorcycles\tHakuchou Drag\t0:57.590\t126.5\n",
    "Motorcycles\tHexer\t1:07.167\t104.75\n",
    "Motorcycles\tInnovation\t1:04.999\t110\n",
    "Motorcycles\tLectro\t1:03.729\t109.25\n",
    "Motorcycles\tManchez\t1:06.465\t113.5\n",
    "Motorcycles\tNemesis\t1:04.598\t111.25\n",
    "Motorcycles\tNightblade\t1:03.496\t114.25\n",
    "Motorcycles\tPCJ 600\t1:06.734\t106.75\n",
    "Motorcycles\tRat Bike\t1:17.632\t123.5\n",
    "Motorcycles\tRuffian\t1:02.461\t122.25\n",
    "Motorcycles\tSanchez\t1:04.532\t117.75\n",
    "Motorcycles\tSanctus\t1:03.329\t112\n",
    "Motorcycles\tShotaro\t0:57.490\t123.75\n",
    "Motorcycles\tSovereign\t1:06.400\t106.25\n",
    "Motorcycles\tThrust\t1:07.267\t118.25\n",
    "Motorcycles\tVader\t1:05.299\t107.75\n",
    "Motorcycles\tVindicator\t1:05.466\t121.25\n",
    "Motorcycles\tVortex\t1:01.028\t115.75\n",
    "Motorcycles\tWolfsbane\t1:17.444\t101.5\n",
    "Motorcycles\tZombie Bobber\t1:08.311\t113.75\n",
    "Motorcycles\tZombie Chopper\t1:08.201\t113.75\n",
    "Muscle\tBlade\t1:09.269\t109.75\n",
    "Muscle\tBuccaneer\t1:12.239\t113\n",
    "Muscle\tBuccaneer Custom\t1:12.221\t112.75\n",
    "Muscle\tBurger Shot Stallion\t1:10.904\t113.25\n",
    "Muscle\tChino\t1:19.946\t94.25\n",
    "Muscle\tChino Custom\t1:19.879\t95.5\n",
    "Muscle\tCoquette BlackFin\t1:09.803\t114.25\n",
    "Muscle\tDominator\t1:09.035\t120.25\n",
    "Muscle\tDuke O'Death\t1:10.104\t114.25\n",
    "Muscle\tDukes\t1:09.636\t112.5\n",
    "Muscle\tFaction\t1:16.476\t110.75\n",
    "Muscle\tFaction Custom\t1:13.372\t110.75\n",
    "Muscle\tFaction Custom Donk\t1:16.275\t97.5\n",
    "Muscle\tGauntlet\t1:12.005\t113.25\n",
    "Muscle\tHotknife\t1:19.079\t109.5\n",
    "Muscle\tLost Slamvan\t1:24.981\t95.25\n",
    "Muscle\tLurcher\t1:14.406\t114.25\n",
    "Muscle\tMoonbeam\t1:21.647\t102\n",
    "Muscle\tMoonbeam Custom\t1:17.477\t102\n",
    "Muscle\tNightshade\t1:14.841\t104.5\n",
    "Muscle\tPhoenix\t1:11.172\t113\n",
    "Muscle\tPicador\t1:17.878\t102.5\n",
    "Muscle\tPisswasser Dominator\t1:06.766\t124.5\n",
    "Muscle\tRat-Loader\t1:24.785\t102.5\n",
    "Muscle\tRat-Truck\t1:24.084\t105.25\n",
    "Muscle\tRedwood Gauntlet\t1:11.471\t117.25\n",
    "Muscle\tRuiner\t1:09.936\t118.75\n",
    "Muscle\tRuiner 2000\t1:10.063\t118.75\n",
    "Muscle\tSabre Turbo\t1:10.136\t110.75\n",
    "Muscle\tSabre Turbo Custom\t1:06.866\t121.25\n",
    "Muscle\tSlamvan\t1:25.451\t108\n",
    "Muscle\tSlamvan Custom\t1:11.005\t117.5\n",
    "Muscle\tStallion\t1:11.572\t110.25\n",
    "Muscle\tTampa\t1:11.170\t105.5\n",
    "Muscle\tVigero\t1:13.673\t112\n",
    "Muscle\tVirgo\t1:18.912\t97.5\n",
    "Muscle\tVirgo Classic\t1:21.448\t96.75\n",
    "Muscle\tVirgo Classic Custom\t1:15.441\t104\n",
    "Muscle\tVoodoo\t1:22.516\t99\n",
    "Muscle\tVoodoo Custom\t1:22.181\t100.75\n",
    "Sports\t9F\t1:04.125\t119.75\n",
    "Sports\t9F Cabrio\t1:04.157\t119.75\n",
    "Sports\tAlpha\t1:05.732\t117.75\n",
    "Sports\tBanshee\t1:06.066\t117.75\n",
    "Sports\tBestia GTS\t1:04.364\t118.75\n",
    "Sports\tBlista Compact\t1:15.408\t103\n",
    "Sports\tBuffalo\t1:08.503\t112.25\n",
    "Sports\tBuffalo S\t1:08.001\t112.25\n",
    "Sports\tCarbonizzare\t1:05.699\t119.5\n",
    "Sports\tComet\t1:05.130\t119.5\n",
    "Sports\tComet Retro Custom\t1:05.632\t121.25\n",
    "Sports\tCoquette\t1:06.333\t119.25\n",
    "Sports\tDrift Tampa\t1:08.334\t114.25\n",
    "Sports\tElegy Retro Custom\t1:03.483\t115.25\n",
    "Sports\tElegy RH8\t1:02.529\t118.5\n",
    "Sports\tFeltzer\t1:03.229\t119.5\n",
    "Sports\tFurore GT\t1:08.502\t120.25\n",
    "Sports\tFusilade\t1:08.652\t117.75\n",
    "Sports\tFuto\t1:12.706\t119.25\n",
    "Sports\tGo Go Monkey Blista\t1:15.402\t103\n",
    "Sports\tJester\t1:03.763\t118.75\n",
    "Sports\tJester (Racecar)\t1:03.363\t119.25\n",
    "Sports\tKhamelion\t1:08.301\t102.25\n",
    "Sports\tKuruma\t1:06.800\t112\n",
    "Sports\tKuruma (Armored)\t1:09.036\t109.75\n",
    "Sports\tLynx\t1:07.133\t121.5\n",
    "Sports\tMassacro\t1:03.864\t121.75\n",
    "Sports\tMassacro (Racecar)\t1:03.810\t121.75\n",
    "Sports\tOmnis\t1:07.600\t112.5\n",
    "Sports\tPenumbra\t1:12.243\t105.25\n",
    "Sports\tRapid GT\t1:08.419\t119.5\n",
    "Sports\tRapid GT\t1:08.434\t119.5\n",
    "Sports\tRaptor\t1:11.371\t103.25\n",
    "Sports\tSchafter LWB\t1:09.769\t109.5\n",
    "Sports\tSchafter V12\t1:05.121\t124.25\n",
    "Sports\tSchwartzer\t1:11.105\t117\n",
    "Sports\tSeven-70\t1:04.764\t123.5\n",
    "Sports\tSpecter\t1:04.398\t121.25\n",
    "Sports\tSpecter Custom\t1:04.998\t121.25\n",
    "Sports\tSprunk Buffalo\t1:07.234\t116\n",
    "Sports\tSultan\t1:05.834\t115.75\n",
    "Sports\tSurano\t1:04.531\t121\n",
    "Sports\tTropos Rallye\t1:06.866\t119.5\n",
    "Sports\tVerlierer\t1:05.659\t121.75\n",
    "Sports Classics\tCasco\t1:10.337\t120\n",
    "Sports Classics\tCoquette Classic\t1:11.470\t118\n",
    "Sports Classics\tFranken Stange\t1:16.909\t106.5\n",
    "Sports Classics\tJB 700\t1:12.071\t119.25\n",
    "Sports Classics\tMamba\t1:12.372\t117\n",
    "Sports Classics\tManana\t1:23.183\t98.25\n",
    "Sports Classics\tMonroe\t1:11.172\t122\n",
    "Sports Classics\tPeyote\t1:24.751\t98.25\n",
    "Sports Classics\tPigalle\t1:10.169\t121.25\n",
    "Sports Classics\tRoosevelt\t1:17.344\t98.5\n",
    "Sports Classics\tRoosevelt Valor\t1:16.406\t98.5\n",
    "Sports Classics\tStinger\t1:13.239\t112\n",
    "Sports Classics\tStinger GT\t1:12.972\t112\n",
    "Sports Classics\tStirling GT\t1:06.166\t112\n",
    "Sports Classics\tTornado\t1:26.353\t98.25\n",
    "Sports Classics\tTornado Cabrio\t1:26.356\t98.25\n",
    "Sports Classics\tTornado Custom\t1:24.417\t98.25\n",
    "Sports Classics\tTornado Mariachi\t1:31.891\t91.25\n",
    "Sports Classics\tTornado Rat Rod\t1:18.277\t98.75\n",
    "Sports Classics\tZ-Type\t1:09.368\t126.25\n",
    "Supers\t811\t1:03.930\t129.25\n",
    "Supers\tAdder\t1:04.964\t124.75\n",
    "Supers\tBanshee 900R\t1:04.565\t131\n",
    "Supers\tBullet\t1:08.034\t118.75\n",
    "Supers\tCheetah\t1:03.530\t120.25\n",
    "Supers\tEntity XF\t1:02.323\t121.5\n",
    "Supers\tETR1\t1:01.728\t120.75\n",
    "Supers\tFMJ\t1:01.795\t125\n",
    "Supers\tInfernus\t1:02.929\t117.75\n",
    "Supers\tItali GTB\t1:01.861\t126.25\n",
    "Supers\tItali GTB Custom\t1:02.896\t127\n",
    "Supers\tNero\t1:01.495\t126.5\n",
    "Supers\tNero Custom\t1:01.061\t127.25\n",
    "Supers\tOsiris\t1:01.394\t122\n",
    "Supers\tPenetrator\t1:02.562\t124\n",
    "Supers\tRE-7B\t1:00.627\t123.5\n",
    "Supers\tReaper\t1:02.716\t121.75\n",
    "Supers\tRocket Voltic\t1:03.144\t106\n",
    "Supers\tSultan RS\t1:04.364\t117.25\n",
    "Supers\tT20\t1:01.287\t122.25\n",
    "Supers\tTempesta\t1:00.803\t121.25\n",
    "Supers\tTurismo R\t1:01.998\t121.75\n",
    "Supers\tTyrus\t1:02.228\t123.5\n",
    "Supers\tVacca\t1:03.964\t120.25\n",
    "Supers\tVoltic\t1:05.798\t106\n",
    "Supers\tX80 Proto\t1:01.175\t127.5\n",
    "Supers\tZentorno\t1:00.960\t122\n",
    "'''"
   ]
  },
  {
   "cell_type": "code",
   "execution_count": 70,
   "metadata": {
    "collapsed": false,
    "deletable": true,
    "editable": true
   },
   "outputs": [
    {
     "name": "stdout",
     "output_type": "stream",
     "text": [
      ".............................NOT FOUND: Avarus\n",
      ".............................NOT FOUND: Chimera\n",
      ".............................NOT FOUND: Daemon (Lost)\n",
      ".............................NOT FOUND: Defiler\n",
      ".............................NOT FOUND: Esskey\n",
      ".............................NOT FOUND: Faggio Mod\n",
      ".............................NOT FOUND: Faggio Sport\n",
      ".............................NOT FOUND: Manchez\n",
      ".............................NOT FOUND: Nightblade\n",
      ".............................NOT FOUND: Rat Bike\n",
      ".............................NOT FOUND: Sanctus\n",
      ".............................NOT FOUND: Vortex\n",
      ".............................NOT FOUND: Wolfsbane\n",
      ".............................NOT FOUND: Zombie Bobber\n",
      ".............................NOT FOUND: Zombie Chopper\n",
      ".............................NOT FOUND: 9F Cabrio\n",
      ".............................NOT FOUND: Rocket Voltic\n"
     ]
    }
   ],
   "source": [
    "for line in data.splitlines():\n",
    "    vdata = line.split('\\t')\n",
    "    if vdata[2]:\n",
    "        vv = get_object_by_string(vdata[1], Vehicle, \"name\", score_cutoff=95)\n",
    "        if not vv:\n",
    "            print(\".............................NOT FOUND:\", vdata[1])\n",
    "            continue\n",
    "        millis = lt2millis(vdata[2])\n",
    "        vv.cc_laptime_millis = millis\n",
    "        vv.topspeed_kmh = float(vdata[3]) * 1.60934\n",
    "        if (vdata[1] != vv.name):\n",
    "            print(vdata[1], vv.name, vv.pk, vv.cc_laptime_millis, vv.topspeed_kmh)\n",
    "        else:\n",
    "            vv.save()"
   ]
  },
  {
   "cell_type": "code",
   "execution_count": 44,
   "metadata": {
    "collapsed": false
   },
   "outputs": [
    {
     "data": {
      "text/plain": [
       "<Vehicle: Penetrator (Super)>"
      ]
     },
     "execution_count": 44,
     "metadata": {},
     "output_type": "execute_result"
    }
   ],
   "source": [
    "get_object_by_string(\"Raptor\", Vehicle, \"name\", score_cutoff=.99)"
   ]
  },
  {
   "cell_type": "code",
   "execution_count": 61,
   "metadata": {
    "collapsed": true
   },
   "outputs": [],
   "source": [
    "v = Vehicle.objects.get(name=\"Raptor\")"
   ]
  },
  {
   "cell_type": "code",
   "execution_count": 64,
   "metadata": {
    "collapsed": false
   },
   "outputs": [
    {
     "data": {
      "text/plain": [
       "<QuerySet [<VehicleClass: Sport>]>"
      ]
     },
     "execution_count": 64,
     "metadata": {},
     "output_type": "execute_result"
    }
   ],
   "source": [
    "v.classes.all()"
   ]
  },
  {
   "cell_type": "code",
   "execution_count": 58,
   "metadata": {
    "collapsed": false
   },
   "outputs": [],
   "source": [
    "from vehicles.models import VehicleClass\n",
    "vc  = VehicleClass.objects.get(name=\"Sport\")"
   ]
  },
  {
   "cell_type": "code",
   "execution_count": 60,
   "metadata": {
    "collapsed": true
   },
   "outputs": [],
   "source": [
    "v.save()"
   ]
  },
  {
   "cell_type": "code",
   "execution_count": null,
   "metadata": {
    "collapsed": true
   },
   "outputs": [],
   "source": []
  }
 ],
 "metadata": {
  "kernelspec": {
   "display_name": "Python 3",
   "language": "python",
   "name": "python3"
  },
  "language_info": {
   "codemirror_mode": {
    "name": "ipython",
    "version": 3
   },
   "file_extension": ".py",
   "mimetype": "text/x-python",
   "name": "python",
   "nbconvert_exporter": "python",
   "pygments_lexer": "ipython3",
   "version": "3.5.1"
  }
 },
 "nbformat": 4,
 "nbformat_minor": 0
}
