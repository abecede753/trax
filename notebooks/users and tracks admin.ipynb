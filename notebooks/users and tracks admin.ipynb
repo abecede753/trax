{
 "cells": [
  {
   "cell_type": "code",
   "execution_count": 1,
   "metadata": {
    "collapsed": true,
    "deletable": true,
    "editable": true
   },
   "outputs": [],
   "source": [
    "import os, sys\n",
    "sys.path.insert(0, '/home/trax/trax/website')\n",
    "os.environ.setdefault(\"DJANGO_SETTINGS_MODULE\", \"trax.settings\")\n",
    "import django\n",
    "django.setup()\n",
    "from tracks.models import Track\n",
    "from players.models import Player"
   ]
  },
  {
   "cell_type": "markdown",
   "metadata": {
    "deletable": true,
    "editable": true
   },
   "source": [
    "# Change track ownership"
   ]
  },
  {
   "cell_type": "code",
   "execution_count": 2,
   "metadata": {
    "collapsed": false,
    "deletable": true,
    "editable": true
   },
   "outputs": [],
   "source": [
    "p = Player.objects.get(username__icontains='skira')"
   ]
  },
  {
   "cell_type": "code",
   "execution_count": 3,
   "metadata": {
    "collapsed": false,
    "deletable": true,
    "editable": true
   },
   "outputs": [
    {
     "name": "stdout",
     "output_type": "stream",
     "text": [
      "Spritez hiberg\n"
     ]
    }
   ],
   "source": [
    "for t in Track.objects.filter(author__icontains=\"kasumi\"):\n",
    "    print(t.title, t.creator)\n",
    "    # t.creator = p\n",
    "    # t.save()"
   ]
  },
  {
   "cell_type": "markdown",
   "metadata": {
    "collapsed": true,
    "deletable": true,
    "editable": true
   },
   "source": [
    "# Change user password"
   ]
  },
  {
   "cell_type": "code",
   "execution_count": 4,
   "metadata": {
    "collapsed": false,
    "deletable": true,
    "editable": true
   },
   "outputs": [],
   "source": [
    "p = Player.objects.get(username=\"skirakzalus\")\n",
    "p.set_password(\"das157meinpwd\")\n",
    "p.save()\n"
   ]
  },
  {
   "cell_type": "markdown",
   "metadata": {
    "deletable": true,
    "editable": true
   },
   "source": [
    "# Track searching"
   ]
  },
  {
   "cell_type": "code",
   "execution_count": 7,
   "metadata": {
    "collapsed": false,
    "deletable": true,
    "editable": true
   },
   "outputs": [
    {
     "data": {
      "text/plain": [
       "[<Track: Port'n'Shore GP>,\n",
       " <Track: Gfred>,\n",
       " <Track: The RallyMill>,\n",
       " <Track: Tarmac 'n' Dirt>,\n",
       " <Track: Harmony Rallycross>,\n",
       " <Track: Rebel Rally Run>,\n",
       " <Track: Crankshaft RallyCross>,\n",
       " <Track: You Tool Rallycross Ring>,\n",
       " <Track: Lurking Wolf RallyCross>,\n",
       " <Track: Grand Senora Rally Ring>]"
      ]
     },
     "execution_count": 7,
     "metadata": {},
     "output_type": "execute_result"
    }
   ],
   "source": [
    "list(Track.objects.filter(surface_dirt__gt=10))"
   ]
  },
  {
   "cell_type": "code",
   "execution_count": 5,
   "metadata": {
    "collapsed": false,
    "deletable": true,
    "editable": true
   },
   "outputs": [
    {
     "data": {
      "text/plain": [
       "<QuerySet [<Track: Port'n'Shore GP>, <Track: IYI Dulo Arena>]>"
      ]
     },
     "execution_count": 5,
     "metadata": {},
     "output_type": "execute_result"
    }
   ],
   "source": [
    "t"
   ]
  },
  {
   "cell_type": "markdown",
   "metadata": {
    "collapsed": true,
    "deletable": true,
    "editable": true
   },
   "source": [
    "# Update Player Racing Statistics"
   ]
  },
  {
   "cell_type": "code",
   "execution_count": 2,
   "metadata": {
    "collapsed": false,
    "deletable": true,
    "editable": true
   },
   "outputs": [
    {
     "name": "stdout",
     "output_type": "stream",
     "text": [
      "janx93 0.9325579690364153\n",
      "metoxys 0.9464072322269874\n",
      "casper258 0.9766897665711398\n",
      "benimi 0.9793076353411471\n",
      "sins 0.9796542095642296\n",
      "mindlessriff 0.9819846366728037\n",
      "silkie 0.9863033734888279\n",
      "firefly 0.9920383075957913\n",
      "jonypls 0.9923026427014612\n",
      "places3 0.9929886848501694\n",
      "friendlybaron 0.9938170726494433\n",
      "doompenguin44 0.99543727065549\n",
      "nommasch 0.9961356019113173\n",
      "declassed 1.0\n",
      "youri 1.0\n",
      ".monte. 1.0\n",
      "jekyll. 1.0\n",
      "ac4t9 1.0\n",
      "andyxx1989 1.0\n",
      "grmpls 1.0\n",
      "michiski22 1.0\n",
      "veltus 1.0\n",
      "prrevil 1.0\n",
      "cldpls 1.0\n",
      "dereggen 1.0\n",
      "ganjalo 1.0\n",
      "esperante_lmp1 1.0\n",
      "-dyingwords- 1.0\n",
      "hartesocke 1.0\n",
      "countach92 1.0\n",
      "nick420guy 1.0\n",
      "viojoel 1.0\n",
      "elbererth 1.0\n",
      "the.operator. 1.0\n",
      "d.shostakovich 1.0\n",
      "bezerka3 1.0\n",
      "feiaschdada 1.0\n",
      "1wasawa 1.0\n",
      "the_bad_loser 1.0\n",
      "clone 1.0\n",
      "billylowskill 1.0\n",
      "aliasunknown 1.0\n",
      "smithyonetwelve 1.0\n",
      "jahgee1124 1.0\n",
      "daarnok 1.0\n",
      "mannyx1985 1.0\n",
      "mawricus 1.0\n",
      "marcusdutt 1.0\n",
      "thegrodo 1.0\n",
      "dv8rx. 1.0\n",
      "mark verstappen 1.0\n",
      "skirakzalus 1.0\n",
      "scrazor92 1.0\n",
      "tricyclerider 1.0\n",
      "esquzz 1.0\n",
      "st_of_dec 1.0\n",
      "-obihoernchen- 1.0\n",
      "thekillswitchh 1.0\n",
      "drkloden 1.0\n",
      "tohrazer 1.0\n",
      "razvanmc23 1.0\n",
      "amanir 1.0\n",
      "squarl 1.0\n",
      "serviinutles 1.0\n",
      "pseudonymous8128 1.0\n",
      "theselgadic1 1.0\n",
      "thedelgadic1 1.0\n",
      "letaros 1.0\n",
      "deafplayer 1.0\n",
      "drknut 1.0\n",
      "mateuszhu 1.0\n",
      "xzenvohh 1.0\n",
      "cloudmcshort 1.0\n",
      "_shedim_ 1.0\n",
      "adam10603 1.0\n",
      "imfishy 1.0\n",
      "sanicsimon 1.0\n",
      "novesori 1.0\n",
      "wolfie_big_tail 1.0\n",
      "phooking 1.0\n",
      "arinc429 1.0\n",
      "dagingerale 1.0\n",
      "stevdoesbigjumps 1.0\n",
      "prismide 1.0\n",
      "giordanop 1.0\n",
      "journeytojah 1.0\n",
      "goldenpear 1.0\n",
      "jbcarfreek 1.0\n",
      "stevejevvbz 1.0\n",
      "bladecruiser 1.0\n",
      "rayevetolerz 1.0\n",
      "parenyica (jsx) 1.0\n",
      "kalev10 1.0\n",
      "mr_caedo 1.0\n",
      "cjcaesar 1.0\n",
      "ryowatanabe201 1.0\n",
      "scootypiesk 1.0\n",
      "ravensfang 1.0\n",
      "__gandhi__ 1.0\n",
      "raptor_x_ 1.0\n",
      "lenn4life 1.0\n",
      "radas59 1.0\n",
      "herogut 1.0\n",
      "szathy 1.0\n",
      "akajayjohn 1.0\n",
      "dummytestuser 1.0\n",
      "dealesis 1.0\n",
      "bryan-turbo 1.0\n",
      "kaleeb42 1.0\n",
      "toodlesn 1.0\n",
      "thinkdave 1.0\n",
      "volvo.markkanen 1.0\n",
      "efo_kesha_f1 1.0\n",
      "blackb3rt 1.0\n",
      "mrkudin 1.0\n",
      "iwasawa 1.0\n",
      "ohdarn 1.0\n",
      "st0cking 1.0015660954710353\n",
      "serenniel 1.0054453362531983\n",
      "thisisqlimax 1.0065569463948871\n",
      "p4ulin4tor 1.006685149130543\n",
      "tony_soprano1985 1.0078864915221435\n",
      "razorr8 1.0106152579058718\n",
      "fivedownactual 1.0111667412492686\n",
      "zetmir 1.0145185112554604\n",
      "g.l.e.n 1.0160750869050201\n",
      "beta1hit 1.017255379079614\n",
      "divait 1.0230821215105075\n",
      "piguy3141 1.025407458197154\n",
      "johneboy82 1.0255176313059493\n",
      "grievous_94 1.0260324268861027\n",
      "dogda_ 1.0295473966236268\n",
      "fab.iceman 1.0310914684382235\n",
      "hiberg 1.0314558583820372\n",
      "yoloswagypsen 1.0322245116346085\n",
      "tsupernami 1.0324329043464433\n",
      "94youri 1.0336304215042644\n",
      "skonehome 1.034968505207735\n",
      "abe.cede 1.0366583764485355\n",
      "thetruearyan 1.0371409825892608\n",
      "mistarr 1.0379780463992547\n",
      "sunkenviper 1.0385073632430473\n",
      "kili31 1.0388475747744645\n",
      "prutoog 1.0422894122433095\n",
      "ace.master 1.0450924955353478\n",
      "-krizz- 1.046628504183564\n",
      "wuzuul 1.0477573529528401\n",
      "pindadoper 1.0492929254379546\n",
      "teurastaja 1.0497800860969455\n",
      "fleakkeren 1.0501805540795368\n",
      "positivetension 1.0572639628588765\n",
      "mrs4l7y 1.0574067117528512\n",
      "cragsify 1.0688299832113546\n",
      "drowningfish 1.0713307290096952\n",
      "neutren 1.0742755034533387\n",
      "mrbeattbox 1.0760011789257236\n",
      "fruchtie 1.0841993566158747\n",
      "thedevil696 1.1\n",
      "ofmikeandmen 1.1\n",
      "jeffreyb1990 1.1\n"
     ]
    }
   ],
   "source": [
    "from players.utils import update_player_racing_stats\n",
    "for p in Player.objects.all().order_by(\"defaultspeedmultiplier\"):\n",
    "    update_player_racing_stats(p)\n",
    "    print(p, p.defaultspeedmultiplier)"
   ]
  },
  {
   "cell_type": "code",
   "execution_count": null,
   "metadata": {
    "collapsed": true,
    "deletable": true,
    "editable": true
   },
   "outputs": [],
   "source": []
  }
 ],
 "metadata": {
  "kernelspec": {
   "display_name": "Python 3",
   "language": "python",
   "name": "python3"
  },
  "language_info": {
   "codemirror_mode": {
    "name": "ipython",
    "version": 3
   },
   "file_extension": ".py",
   "mimetype": "text/x-python",
   "name": "python",
   "nbconvert_exporter": "python",
   "pygments_lexer": "ipython3",
   "version": "3.5.1"
  }
 },
 "nbformat": 4,
 "nbformat_minor": 2
}
