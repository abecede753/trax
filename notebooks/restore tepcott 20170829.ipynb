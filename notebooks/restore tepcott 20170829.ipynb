{
 "cells": [
  {
   "cell_type": "code",
   "execution_count": 1,
   "metadata": {
    "collapsed": true,
    "deletable": true,
    "editable": true
   },
   "outputs": [],
   "source": [
    "import os, sys\n",
    "sys.path.insert(0, '/home/trax/trax/website/')\n",
    "os.environ.setdefault(\"DJANGO_SETTINGS_MODULE\", \"trax.settings\")\n",
    "import django\n",
    "django.setup()"
   ]
  },
  {
   "cell_type": "code",
   "execution_count": 2,
   "metadata": {
    "collapsed": true,
    "deletable": true,
    "editable": true
   },
   "outputs": [],
   "source": [
    "from events.models import HotlappingLaptime, Hotlapping\n",
    "from vehicles.models import Vehicle\n",
    "from tracks.models import Track, Laptime\n",
    "from players.models import Player\n",
    "import datetime\n",
    "import xml.etree.ElementTree as ET\n",
    "tree = ET.parse('/home/trax/tepcottbeautified.html')\n",
    "root = tree.getroot()\n",
    "track = Track.objects.get(title__startswith=\"EpsiloShark\")\n",
    "event = Hotlapping.objects.get(pk=16)"
   ]
  },
  {
   "cell_type": "code",
   "execution_count": 12,
   "metadata": {
    "collapsed": false
   },
   "outputs": [
    {
     "name": "stdout",
     "output_type": "stream",
     "text": [
      "[(403, '1:44.129'), (404, '1:44.129'), (405, '1:44.129'), (406, '1:44.129'), (407, '1:44.129'), (408, '1:44.129')]\n"
     ]
    }
   ],
   "source": [
    "u = Player.objects.get(username__startswith=\"justus\")\n",
    "print([(x.pk, x.laptime.duration) for x in HotlappingLaptime.objects.filter(laptime__player=u, laptime__track=track)])"
   ]
  },
  {
   "cell_type": "code",
   "execution_count": 11,
   "metadata": {
    "collapsed": false
   },
   "outputs": [
    {
     "name": "stdout",
     "output_type": "stream",
     "text": [
      "104128\n",
      "104128\n",
      "104128\n",
      "104128\n",
      "104128\n",
      "104128\n"
     ]
    }
   ],
   "source": [
    "for x in HotlappingLaptime.objects.filter(laptime__player=u, laptime__track=track):\n",
    "    print (x.laptime.millis)\n",
    "    x.laptime.millis += 1\n",
    "    x.laptime.save()"
   ]
  },
  {
   "cell_type": "code",
   "execution_count": 13,
   "metadata": {
    "collapsed": false,
    "deletable": true,
    "editable": true
   },
   "outputs": [],
   "source": [
    "def doit(o):\n",
    "    \"\"\"parses the xml objects and creates a Laptime object\"\"\"\n",
    "    try:\n",
    "        user = Player.objects.get(username=tr.getchildren()[1].text)\n",
    "    except:\n",
    "        user = Player.objects.get(username=\"abe.cede\")\n",
    "    vehicle = Vehicle.objects.get(name=tr.getchildren()[2].text)\n",
    "    link = tr.getchildren()[3].getchildren()[0].attrib['href']\n",
    "    created = datetime.date(*[int(x) for x in tr.getchildren()[4].text.strip().split('-')])\n",
    "    mins, secs = tr.getchildren()[5].text.strip().split(':')\n",
    "    laptime_secs = int(mins) * 60 + float(secs)\n",
    "    lt = Laptime(track=track, player=user, created=created, recorded=created,\n",
    "                 vehicle=vehicle, millis=laptime_secs*1000, link=link,\n",
    "                millis_per_km = laptime_secs*1000/track.route_length_km)\n",
    "    lt.save()\n",
    "    return lt"
   ]
  },
  {
   "cell_type": "code",
   "execution_count": 14,
   "metadata": {
    "collapsed": false,
    "deletable": true,
    "editable": true
   },
   "outputs": [
    {
     "name": "stderr",
     "output_type": "stream",
     "text": [
      "/home/trax/trax/website/players/utils.py:65: RuntimeWarning: divide by zero encountered in true_divide\n",
      "  modified_z_score = 0.6745 * diff / med_abs_deviation\n",
      "/home/trax/trax/website/players/utils.py:65: RuntimeWarning: invalid value encountered in true_divide\n",
      "  modified_z_score = 0.6745 * diff / med_abs_deviation\n",
      "/home/trax/trax/website/players/utils.py:66: RuntimeWarning: invalid value encountered in greater\n",
      "  return modified_z_score > thresh\n"
     ]
    }
   ],
   "source": [
    "for tr in root.iter(\"tr\"):\n",
    "    for td in tr:\n",
    "        lt = doit(tr)\n",
    "        hll = HotlappingLaptime(approved=True, hotlapping=event, laptime=lt)\n",
    "        hll.save()"
   ]
  },
  {
   "cell_type": "code",
   "execution_count": 15,
   "metadata": {
    "collapsed": false,
    "deletable": true,
    "editable": true
   },
   "outputs": [
    {
     "data": {
      "text/plain": [
       "(43,\n",
       " {'events.Hotlapping': 1,\n",
       "  'events.HotlappingLaptime': 0,\n",
       "  'events.Hotlapping_vehicles': 42})"
      ]
     },
     "execution_count": 15,
     "metadata": {},
     "output_type": "execute_result"
    }
   ],
   "source": [
    "xx = Hotlapping.objects.get(pk=17)\n",
    "xx.delete()"
   ]
  },
  {
   "cell_type": "code",
   "execution_count": null,
   "metadata": {
    "collapsed": true,
    "deletable": true,
    "editable": true
   },
   "outputs": [],
   "source": []
  }
 ],
 "metadata": {
  "kernelspec": {
   "display_name": "Python 3",
   "language": "python",
   "name": "python3"
  },
  "language_info": {
   "codemirror_mode": {
    "name": "ipython",
    "version": 3
   },
   "file_extension": ".py",
   "mimetype": "text/x-python",
   "name": "python",
   "nbconvert_exporter": "python",
   "pygments_lexer": "ipython3",
   "version": "3.5.1"
  }
 },
 "nbformat": 4,
 "nbformat_minor": 2
}
